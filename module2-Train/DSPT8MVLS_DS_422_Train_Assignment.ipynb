{
  "nbformat": 4,
  "nbformat_minor": 0,
  "metadata": {
    "colab": {
      "name": "DSPT8MVLS_DS_422_Train_Assignment.ipynb",
      "provenance": [],
      "collapsed_sections": []
    },
    "kernelspec": {
      "name": "python3",
      "display_name": "Python 3"
    }
  },
  "cells": [
    {
      "cell_type": "markdown",
      "metadata": {
        "id": "_czFNygM_-ke"
      },
      "source": [
        "<img align=\"left\" src=\"https://lever-client-logos.s3.amazonaws.com/864372b1-534c-480e-acd5-9711f850815c-1524247202159.png\" width=200>\n",
        "<br></br>\n",
        "<br></br>\n",
        "\n",
        "# Train Practice\n",
        "\n",
        "## *Data Science Unit 4 Sprint 2 Assignment 2*\n",
        "\n",
        "Continue to use TensorFlow Keras & a sample of the [Quickdraw dataset](https://github.com/googlecreativelab/quickdraw-dataset) to build a sketch classification model. The dataset has been sampled to only 10 classes and 10000 observations per class. Please build a baseline classification model then run a few experiments with different optimizers and learning rates. \n",
        "\n",
        "*Don't forgot to switch to GPU on Colab!*"
      ]
    },
    {
      "cell_type": "markdown",
      "metadata": {
        "id": "C28DGTSEAACY"
      },
      "source": [
        "### Write a function to load your data\n",
        "\n",
        "Wrap yesterday's preprocessing steps into a function that returns four items:\n",
        "* X_train\n",
        "* y_train\n",
        "* X_test\n",
        "* y_test\n",
        "\n",
        "Your function should accept a `path` to the data as a argument."
      ]
    },
    {
      "cell_type": "code",
      "metadata": {
        "id": "OIAH0m7oAFeB",
        "colab": {
          "base_uri": "https://localhost:8080/"
        },
        "outputId": "b58facd1-e808-4735-d7e3-98e51d3eca7c"
      },
      "source": [
        "import tensorflow as tf\n",
        "import numpy as np\n",
        "import requests\n",
        "import io\n",
        "from sklearn.model_selection import train_test_split\n",
        "\n",
        "\n",
        "response = requests.get('https://github.com/marianvinas/DS-Unit-4-Sprint-2-Neural-Networks/blob/main/quickdraw10.npz?raw=true')\n",
        "response.raise_for_status()\n",
        "data = np.load(io.BytesIO(response.content))\n",
        "\n",
        "X = data['arr_0']\n",
        "y = data['arr_1']\n",
        "print(X.shape, y.shape)"
      ],
      "execution_count": null,
      "outputs": [
        {
          "output_type": "stream",
          "text": [
            "(100000, 784) (100000,)\n"
          ],
          "name": "stdout"
        }
      ]
    },
    {
      "cell_type": "code",
      "metadata": {
        "id": "XOz6M3wTeQxl",
        "colab": {
          "base_uri": "https://localhost:8080/",
          "height": 288
        },
        "outputId": "8e825496-4a64-47da-d48f-c36738e38b10"
      },
      "source": [
        "import matplotlib.pyplot as plt\n",
        "plt.figure(figsize=(10,5))\n",
        "start = 0\n",
        "\n",
        "for num, name in enumerate(class_names):\n",
        "    plt.subplot(2,5, num+1)\n",
        "    plt.xticks([])\n",
        "    plt.yticks([])\n",
        "    plt.grid(False)\n",
        "    plt.imshow(X[start].reshape(28,28), cmap=plt.cm.binary)\n",
        "    plt.xlabel(name)\n",
        "    start += 10000\n",
        "plt.show()"
      ],
      "execution_count": null,
      "outputs": [
        {
          "output_type": "display_data",
          "data": {
            "image/png": "[encoded data removed]",
            "text/plain": [
              "<Figure size 720x360 with 10 Axes>"
            ]
          },
          "metadata": {
            "tags": []
          }
        }
      ]
    },
    {
      "cell_type": "code",
      "metadata": {
        "id": "J-71EInGwfbH"
      },
      "source": [
        "from sklearn.utils import shuffle\n",
        "X, y = shuffle(X, y)"
      ],
      "execution_count": null,
      "outputs": []
    },
    {
      "cell_type": "code",
      "metadata": {
        "id": "y7JH4UZswjDi"
      },
      "source": [
        "from tensorflow.keras.models import Sequential\n",
        "from tensorflow.keras.layers import Dense\n",
        "\n",
        "# This is our perceptron from Monday's by-hand: \n",
        "model = Sequential()\n",
        "model.add(Dense(units=323, activation='relu', input_dim=784, name='input_dense_32'))\n",
        "model.add(Dense(units=323, activation='relu'))\n",
        "model.add(Dense(units=10, activation='softmax'))"
      ],
      "execution_count": null,
      "outputs": []
    },
    {
      "cell_type": "code",
      "metadata": {
        "id": "KR8_NeHBwmgf",
        "colab": {
          "base_uri": "https://localhost:8080/"
        },
        "outputId": "a85fcd11-dca8-4a0b-b6fc-7a0acc355148"
      },
      "source": [
        "model.compile(loss='sparse_categorical_crossentropy',\n",
        "              optimizer='adam',\n",
        "              metrics=['accuracy'])\n",
        "\n",
        "model.summary()"
      ],
      "execution_count": null,
      "outputs": [
        {
          "output_type": "stream",
          "text": [
            "Model: \"sequential_1\"\n",
            "_________________________________________________________________\n",
            "Layer (type)                 Output Shape              Param #   \n",
            "=================================================================\n",
            "input_dense_32 (Dense)       (None, 323)               253555    \n",
            "_________________________________________________________________\n",
            "dense_2 (Dense)              (None, 323)               104652    \n",
            "_________________________________________________________________\n",
            "dense_3 (Dense)              (None, 10)                3240      \n",
            "=================================================================\n",
            "Total params: 361,447\n",
            "Trainable params: 361,447\n",
            "Non-trainable params: 0\n",
            "_________________________________________________________________\n"
          ],
          "name": "stdout"
        }
      ]
    },
    {
      "cell_type": "code",
      "metadata": {
        "id": "7XHZB3E6wrzT",
        "colab": {
          "base_uri": "https://localhost:8080/"
        },
        "outputId": "b1f5b42c-64ea-45bb-c8b2-fe4e85e661df"
      },
      "source": [
        "baseline = model.fit(X, y,\n",
        "                     epochs=5,\n",
        "                     validation_split=0.2)"
      ],
      "execution_count": null,
      "outputs": [
        {
          "output_type": "stream",
          "text": [
            "Epoch 1/5\n",
            "2500/2500 [==============================] - 12s 5ms/step - loss: 0.4993 - accuracy: 0.8524 - val_loss: 0.5528 - val_accuracy: 0.8384\n",
            "Epoch 2/5\n",
            "2500/2500 [==============================] - 12s 5ms/step - loss: 0.4654 - accuracy: 0.8618 - val_loss: 0.5718 - val_accuracy: 0.8374\n",
            "Epoch 3/5\n",
            "2500/2500 [==============================] - 12s 5ms/step - loss: 0.4435 - accuracy: 0.8691 - val_loss: 0.5467 - val_accuracy: 0.8485\n",
            "Epoch 4/5\n",
            "2500/2500 [==============================] - 13s 5ms/step - loss: 0.4254 - accuracy: 0.8746 - val_loss: 0.5668 - val_accuracy: 0.8466\n",
            "Epoch 5/5\n",
            "2500/2500 [==============================] - 14s 6ms/step - loss: 0.4053 - accuracy: 0.8791 - val_loss: 0.6049 - val_accuracy: 0.8503\n"
          ],
          "name": "stdout"
        }
      ]
    },
    {
      "cell_type": "code",
      "metadata": {
        "id": "kcdD_uVCxYQP",
        "colab": {
          "base_uri": "https://localhost:8080/"
        },
        "outputId": "e356bcc2-bea3-4353-e0ce-e2d92cde9645"
      },
      "source": [
        "from sklearn.model_selection import train_test_split\n",
        "from sklearn.ensemble import RandomForestClassifier\n",
        "from sklearn.metrics import accuracy_score\n",
        "\n",
        "\n",
        "print(X.shape, y.shape)\n",
        "# split into train test sets\n",
        "X_train, X_test, y_train, y_test = train_test_split(X, y, test_size=0.2, random_state=1)\n",
        "print(X_train.shape, X_test.shape, y_train.shape, y_test.shape)\n",
        "# fit the model\n",
        "model = RandomForestClassifier(random_state=2)\n",
        "model.fit(X_train, y_train)\n",
        "# make predictions\n",
        "yhat = model.predict(X_test)\n",
        "# evaluate predictions\n",
        "acc = accuracy_score(y_test, yhat)\n",
        "print('Accuracy: %.3f' % acc)"
      ],
      "execution_count": null,
      "outputs": [
        {
          "output_type": "stream",
          "text": [
            "(100000, 784) (100000,)\n",
            "(80000, 784) (20000, 784) (80000,) (20000,)\n",
            "Accuracy: 0.857\n"
          ],
          "name": "stdout"
        }
      ]
    },
    {
      "cell_type": "code",
      "metadata": {
        "id": "grXmj1PIxDgZ"
      },
      "source": [
        "# X Variable Types\n",
        "X_train = X_train.astype('float32') / 255.\n",
        "X_test = X_test.astype('float32') / 255."
      ],
      "execution_count": null,
      "outputs": []
    },
    {
      "cell_type": "markdown",
      "metadata": {
        "id": "G587dezMR7qL"
      },
      "source": [
        "### Write a Model Function\n",
        "Using your model from yesterday, write a function called `create_model` which returns a compiled TensorFlow Keras Sequential Model suitable for classifying the QuickDraw-10 dataset. Include parameters for the following: \n",
        "* Learning Rate\n",
        "* Optimizer"
      ]
    },
    {
      "cell_type": "markdown",
      "metadata": {
        "id": "02JpBn_GR7eR"
      },
      "source": [
        ""
      ]
    },
    {
      "cell_type": "code",
      "metadata": {
        "id": "HPHT6VAqS7OM"
      },
      "source": [
        "X_train = X_train / 255.\n",
        "X_test = X_test / 255.\n",
        "\n",
        "#X_train = X_train.reshape((20000, 784))\n",
        "#X_test = X_test.reshape((10000, 784))\n",
        "#print(X_train.shape, X_test.shape)\n",
        "\n",
        "#X_train = X_train.reshape(X_train.shape[0], 28*28)\n",
        "#X_test = X_test.reshape(X_test.shape[0], 28*28)"
      ],
      "execution_count": null,
      "outputs": []
    },
    {
      "cell_type": "code",
      "metadata": {
        "id": "sxrwR3PPAFii"
      },
      "source": [
        "##### Your Code Here #####\n",
        "\n",
        "#def create_model(...):\n",
        "  \n",
        "  #return model"
      ],
      "execution_count": null,
      "outputs": []
    },
    {
      "cell_type": "code",
      "metadata": {
        "id": "8wTQ9qqhTIiZ"
      },
      "source": [
        "from tensorflow.keras import Sequential\n",
        "from tensorflow.keras.layers import Dense\n",
        "from tensorflow.keras.optimizers import SGD\n",
        "\n",
        "def create_model(lr=0.01):\n",
        "  opt = SGD(learning_rate=lr)\n",
        "  model = Sequential([\n",
        "    Dense(32, activation='relu', input_dim=784),\n",
        "    Dense(32, activation='relu'),\n",
        "    Dense(10, activation='softmax')\n",
        "  ])\n",
        "  model.compile(optimizer=opt,\n",
        "                loss='sparse_categorical_crossentropy',\n",
        "                metrics=['accuracy'])\n",
        "  return model"
      ],
      "execution_count": null,
      "outputs": []
    },
    {
      "cell_type": "markdown",
      "metadata": {
        "id": "FcbztKiISQ58"
      },
      "source": [
        "### Experiment with Batch Size\n",
        "* Run 5 experiments with various batch sizes of your choice. \n",
        "* Visualize the results\n",
        "* Write up an analysis of the experiments and select the \"best\" performing model among your experiments. Make sure to compare against your model's performance yesterday. "
      ]
    },
    {
      "cell_type": "code",
      "metadata": {
        "id": "67bDLosCSR19",
        "colab": {
          "base_uri": "https://localhost:8080/"
        },
        "outputId": "e9e48bfd-bc61-4676-ac9c-c08da5564f99"
      },
      "source": [
        "#Batch Size is 32\n",
        "model = create_model()\n",
        "model.summary()"
      ],
      "execution_count": null,
      "outputs": [
        {
          "output_type": "stream",
          "text": [
            "Model: \"sequential_2\"\n",
            "_________________________________________________________________\n",
            "Layer (type)                 Output Shape              Param #   \n",
            "=================================================================\n",
            "dense_4 (Dense)              (None, 32)                25120     \n",
            "_________________________________________________________________\n",
            "dense_5 (Dense)              (None, 32)                1056      \n",
            "_________________________________________________________________\n",
            "dense_6 (Dense)              (None, 10)                330       \n",
            "=================================================================\n",
            "Total params: 26,506\n",
            "Trainable params: 26,506\n",
            "Non-trainable params: 0\n",
            "_________________________________________________________________\n"
          ],
          "name": "stdout"
        }
      ]
    },
    {
      "cell_type": "code",
      "metadata": {
        "id": "YZr0tjkhXN5x",
        "colab": {
          "base_uri": "https://localhost:8080/"
        },
        "outputId": "cab4665c-ae1f-4c7f-d7ec-0f874f375217"
      },
      "source": [
        "bt_default = model.fit(X_train, y_train,\n",
        "                       epochs=25,\n",
        "                       batch_size=32,\n",
        "                       validation_data=(X_test, y_test))"
      ],
      "execution_count": null,
      "outputs": [
        {
          "output_type": "stream",
          "text": [
            "Epoch 1/25\n",
            "2500/2500 [==============================] - 3s 1ms/step - loss: 1.1845 - accuracy: 0.6335 - val_loss: 0.8929 - val_accuracy: 0.7372\n",
            "Epoch 2/25\n",
            "2500/2500 [==============================] - 3s 1ms/step - loss: 0.8293 - accuracy: 0.7564 - val_loss: 0.7812 - val_accuracy: 0.7724\n",
            "Epoch 3/25\n",
            "2500/2500 [==============================] - 3s 1ms/step - loss: 0.7491 - accuracy: 0.7814 - val_loss: 0.7277 - val_accuracy: 0.7868\n",
            "Epoch 4/25\n",
            "2500/2500 [==============================] - 3s 1ms/step - loss: 0.6978 - accuracy: 0.7954 - val_loss: 0.6947 - val_accuracy: 0.7928\n",
            "Epoch 5/25\n",
            "2500/2500 [==============================] - 3s 1ms/step - loss: 0.6602 - accuracy: 0.8055 - val_loss: 0.6604 - val_accuracy: 0.8073\n",
            "Epoch 6/25\n",
            "2500/2500 [==============================] - 3s 1ms/step - loss: 0.6307 - accuracy: 0.8141 - val_loss: 0.6403 - val_accuracy: 0.8116\n",
            "Epoch 7/25\n",
            "2500/2500 [==============================] - 3s 1ms/step - loss: 0.6061 - accuracy: 0.8206 - val_loss: 0.6176 - val_accuracy: 0.8183\n",
            "Epoch 8/25\n",
            "2500/2500 [==============================] - 3s 1ms/step - loss: 0.5850 - accuracy: 0.8267 - val_loss: 0.6099 - val_accuracy: 0.8209\n",
            "Epoch 9/25\n",
            "2500/2500 [==============================] - 3s 1ms/step - loss: 0.5674 - accuracy: 0.8321 - val_loss: 0.5879 - val_accuracy: 0.8246\n",
            "Epoch 10/25\n",
            "2500/2500 [==============================] - 3s 1ms/step - loss: 0.5522 - accuracy: 0.8368 - val_loss: 0.5785 - val_accuracy: 0.8300\n",
            "Epoch 11/25\n",
            "2500/2500 [==============================] - 3s 1ms/step - loss: 0.5391 - accuracy: 0.8395 - val_loss: 0.5755 - val_accuracy: 0.8298\n",
            "Epoch 12/25\n",
            "2500/2500 [==============================] - 4s 1ms/step - loss: 0.5276 - accuracy: 0.8432 - val_loss: 0.5690 - val_accuracy: 0.8320\n",
            "Epoch 13/25\n",
            "2500/2500 [==============================] - 4s 2ms/step - loss: 0.5173 - accuracy: 0.8471 - val_loss: 0.5591 - val_accuracy: 0.8353\n",
            "Epoch 14/25\n",
            "2500/2500 [==============================] - 3s 1ms/step - loss: 0.5081 - accuracy: 0.8496 - val_loss: 0.5496 - val_accuracy: 0.8379\n",
            "Epoch 15/25\n",
            "2500/2500 [==============================] - 3s 1ms/step - loss: 0.5006 - accuracy: 0.8515 - val_loss: 0.5456 - val_accuracy: 0.8389\n",
            "Epoch 16/25\n",
            "2500/2500 [==============================] - 3s 1ms/step - loss: 0.4926 - accuracy: 0.8529 - val_loss: 0.5423 - val_accuracy: 0.8403\n",
            "Epoch 17/25\n",
            "2500/2500 [==============================] - 3s 1ms/step - loss: 0.4859 - accuracy: 0.8563 - val_loss: 0.5352 - val_accuracy: 0.8436\n",
            "Epoch 18/25\n",
            "2500/2500 [==============================] - 3s 1ms/step - loss: 0.4791 - accuracy: 0.8588 - val_loss: 0.5364 - val_accuracy: 0.8421\n",
            "Epoch 19/25\n",
            "2500/2500 [==============================] - 3s 1ms/step - loss: 0.4734 - accuracy: 0.8593 - val_loss: 0.5313 - val_accuracy: 0.8458\n",
            "Epoch 20/25\n",
            "2500/2500 [==============================] - 3s 1ms/step - loss: 0.4685 - accuracy: 0.8600 - val_loss: 0.5310 - val_accuracy: 0.8446\n",
            "Epoch 21/25\n",
            "2500/2500 [==============================] - 3s 1ms/step - loss: 0.4632 - accuracy: 0.8627 - val_loss: 0.5236 - val_accuracy: 0.8457\n",
            "Epoch 22/25\n",
            "2500/2500 [==============================] - 3s 1ms/step - loss: 0.4583 - accuracy: 0.8639 - val_loss: 0.5320 - val_accuracy: 0.8407\n",
            "Epoch 23/25\n",
            "2500/2500 [==============================] - 3s 1ms/step - loss: 0.4536 - accuracy: 0.8651 - val_loss: 0.5345 - val_accuracy: 0.8430\n",
            "Epoch 24/25\n",
            "2500/2500 [==============================] - 3s 1ms/step - loss: 0.4496 - accuracy: 0.8660 - val_loss: 0.5211 - val_accuracy: 0.8465\n",
            "Epoch 25/25\n",
            "2500/2500 [==============================] - 3s 1ms/step - loss: 0.4453 - accuracy: 0.8676 - val_loss: 0.5238 - val_accuracy: 0.8443\n"
          ],
          "name": "stdout"
        }
      ]
    },
    {
      "cell_type": "code",
      "metadata": {
        "id": "1GKGcPGlTshs",
        "colab": {
          "base_uri": "https://localhost:8080/"
        },
        "outputId": "b5a731f7-b2b2-4da1-840b-745614546730"
      },
      "source": [
        "model = create_model()\n",
        "\n",
        "bt_big = model.fit(\n",
        "  X_train, y_train,\n",
        "  epochs=25,\n",
        "  batch_size=512,\n",
        "  validation_data=(X_test, y_test)\n",
        ")"
      ],
      "execution_count": null,
      "outputs": [
        {
          "output_type": "stream",
          "text": [
            "Epoch 1/25\n",
            "157/157 [==============================] - 1s 5ms/step - loss: 2.1864 - accuracy: 0.1872 - val_loss: 2.0289 - val_accuracy: 0.2430\n",
            "Epoch 2/25\n",
            "157/157 [==============================] - 1s 5ms/step - loss: 1.8748 - accuracy: 0.3401 - val_loss: 1.7159 - val_accuracy: 0.4561\n",
            "Epoch 3/25\n",
            "157/157 [==============================] - 1s 5ms/step - loss: 1.5679 - accuracy: 0.5299 - val_loss: 1.4294 - val_accuracy: 0.5735\n",
            "Epoch 4/25\n",
            "157/157 [==============================] - 1s 5ms/step - loss: 1.3324 - accuracy: 0.6021 - val_loss: 1.2519 - val_accuracy: 0.6240\n",
            "Epoch 5/25\n",
            "157/157 [==============================] - 1s 5ms/step - loss: 1.1933 - accuracy: 0.6407 - val_loss: 1.1432 - val_accuracy: 0.6493\n",
            "Epoch 6/25\n",
            "157/157 [==============================] - 1s 5ms/step - loss: 1.1048 - accuracy: 0.6644 - val_loss: 1.0713 - val_accuracy: 0.6770\n",
            "Epoch 7/25\n",
            "157/157 [==============================] - 1s 5ms/step - loss: 1.0456 - accuracy: 0.6820 - val_loss: 1.0231 - val_accuracy: 0.6888\n",
            "Epoch 8/25\n",
            "157/157 [==============================] - 1s 5ms/step - loss: 1.0040 - accuracy: 0.6963 - val_loss: 0.9884 - val_accuracy: 0.6985\n",
            "Epoch 9/25\n",
            "157/157 [==============================] - 1s 5ms/step - loss: 0.9729 - accuracy: 0.7058 - val_loss: 0.9603 - val_accuracy: 0.7099\n",
            "Epoch 10/25\n",
            "157/157 [==============================] - 1s 5ms/step - loss: 0.9483 - accuracy: 0.7148 - val_loss: 0.9383 - val_accuracy: 0.7198\n",
            "Epoch 11/25\n",
            "157/157 [==============================] - 1s 5ms/step - loss: 0.9282 - accuracy: 0.7218 - val_loss: 0.9207 - val_accuracy: 0.7244\n",
            "Epoch 12/25\n",
            "157/157 [==============================] - 1s 5ms/step - loss: 0.9111 - accuracy: 0.7278 - val_loss: 0.9050 - val_accuracy: 0.7318\n",
            "Epoch 13/25\n",
            "157/157 [==============================] - 1s 5ms/step - loss: 0.8961 - accuracy: 0.7335 - val_loss: 0.8912 - val_accuracy: 0.7354\n",
            "Epoch 14/25\n",
            "157/157 [==============================] - 1s 5ms/step - loss: 0.8830 - accuracy: 0.7376 - val_loss: 0.8786 - val_accuracy: 0.7386\n",
            "Epoch 15/25\n",
            "157/157 [==============================] - 1s 5ms/step - loss: 0.8712 - accuracy: 0.7418 - val_loss: 0.8689 - val_accuracy: 0.7430\n",
            "Epoch 16/25\n",
            "157/157 [==============================] - 1s 5ms/step - loss: 0.8603 - accuracy: 0.7448 - val_loss: 0.8578 - val_accuracy: 0.7460\n",
            "Epoch 17/25\n",
            "157/157 [==============================] - 1s 5ms/step - loss: 0.8502 - accuracy: 0.7480 - val_loss: 0.8490 - val_accuracy: 0.7491\n",
            "Epoch 18/25\n",
            "157/157 [==============================] - 1s 5ms/step - loss: 0.8410 - accuracy: 0.7517 - val_loss: 0.8410 - val_accuracy: 0.7509\n",
            "Epoch 19/25\n",
            "157/157 [==============================] - 1s 5ms/step - loss: 0.8324 - accuracy: 0.7542 - val_loss: 0.8320 - val_accuracy: 0.7549\n",
            "Epoch 20/25\n",
            "157/157 [==============================] - 1s 5ms/step - loss: 0.8242 - accuracy: 0.7574 - val_loss: 0.8242 - val_accuracy: 0.7579\n",
            "Epoch 21/25\n",
            "157/157 [==============================] - 1s 5ms/step - loss: 0.8165 - accuracy: 0.7588 - val_loss: 0.8183 - val_accuracy: 0.7587\n",
            "Epoch 22/25\n",
            "157/157 [==============================] - 1s 5ms/step - loss: 0.8090 - accuracy: 0.7623 - val_loss: 0.8108 - val_accuracy: 0.7616\n",
            "Epoch 23/25\n",
            "157/157 [==============================] - 1s 5ms/step - loss: 0.8023 - accuracy: 0.7642 - val_loss: 0.8040 - val_accuracy: 0.7642\n",
            "Epoch 24/25\n",
            "157/157 [==============================] - 1s 5ms/step - loss: 0.7956 - accuracy: 0.7663 - val_loss: 0.7984 - val_accuracy: 0.7659\n",
            "Epoch 25/25\n",
            "157/157 [==============================] - 1s 5ms/step - loss: 0.7893 - accuracy: 0.7682 - val_loss: 0.7942 - val_accuracy: 0.7638\n"
          ],
          "name": "stdout"
        }
      ]
    },
    {
      "cell_type": "code",
      "metadata": {
        "id": "opHcbnIgzO97",
        "colab": {
          "base_uri": "https://localhost:8080/"
        },
        "outputId": "379d9855-cc58-4871-c8ca-03bc9d71592e"
      },
      "source": [
        "model = create_model()\n",
        "\n",
        "bt_small = model.fit(\n",
        "  X_train, y_train,\n",
        "  epochs=25,\n",
        "  batch_size=8,\n",
        "  validation_data=(X_test, y_test)\n",
        ")"
      ],
      "execution_count": null,
      "outputs": [
        {
          "output_type": "stream",
          "text": [
            "Epoch 1/25\n",
            "10000/10000 [==============================] - 12s 1ms/step - loss: 0.8749 - accuracy: 0.7353 - val_loss: 0.6806 - val_accuracy: 0.7978\n",
            "Epoch 2/25\n",
            "10000/10000 [==============================] - 13s 1ms/step - loss: 0.6326 - accuracy: 0.8100 - val_loss: 0.6095 - val_accuracy: 0.8159\n",
            "Epoch 3/25\n",
            "10000/10000 [==============================] - 12s 1ms/step - loss: 0.5687 - accuracy: 0.8270 - val_loss: 0.5625 - val_accuracy: 0.8312\n",
            "Epoch 4/25\n",
            "10000/10000 [==============================] - 12s 1ms/step - loss: 0.5305 - accuracy: 0.8393 - val_loss: 0.5476 - val_accuracy: 0.8331\n",
            "Epoch 5/25\n",
            "10000/10000 [==============================] - 12s 1ms/step - loss: 0.5038 - accuracy: 0.8475 - val_loss: 0.5408 - val_accuracy: 0.8354\n",
            "Epoch 6/25\n",
            "10000/10000 [==============================] - 14s 1ms/step - loss: 0.4855 - accuracy: 0.8535 - val_loss: 0.5251 - val_accuracy: 0.8421\n",
            "Epoch 7/25\n",
            "10000/10000 [==============================] - 12s 1ms/step - loss: 0.4707 - accuracy: 0.8573 - val_loss: 0.5134 - val_accuracy: 0.8471\n",
            "Epoch 8/25\n",
            "10000/10000 [==============================] - 12s 1ms/step - loss: 0.4580 - accuracy: 0.8615 - val_loss: 0.5106 - val_accuracy: 0.8462\n",
            "Epoch 9/25\n",
            "10000/10000 [==============================] - 12s 1ms/step - loss: 0.4493 - accuracy: 0.8635 - val_loss: 0.5130 - val_accuracy: 0.8461\n",
            "Epoch 10/25\n",
            "10000/10000 [==============================] - 12s 1ms/step - loss: 0.4402 - accuracy: 0.8658 - val_loss: 0.5099 - val_accuracy: 0.8474\n",
            "Epoch 11/25\n",
            "10000/10000 [==============================] - 12s 1ms/step - loss: 0.4327 - accuracy: 0.8686 - val_loss: 0.5149 - val_accuracy: 0.8467\n",
            "Epoch 12/25\n",
            "10000/10000 [==============================] - 12s 1ms/step - loss: 0.4258 - accuracy: 0.8697 - val_loss: 0.5094 - val_accuracy: 0.8458\n",
            "Epoch 13/25\n",
            "10000/10000 [==============================] - 12s 1ms/step - loss: 0.4200 - accuracy: 0.8727 - val_loss: 0.5047 - val_accuracy: 0.8480\n",
            "Epoch 14/25\n",
            "10000/10000 [==============================] - 12s 1ms/step - loss: 0.4138 - accuracy: 0.8743 - val_loss: 0.5055 - val_accuracy: 0.8492\n",
            "Epoch 15/25\n",
            "10000/10000 [==============================] - 12s 1ms/step - loss: 0.4090 - accuracy: 0.8752 - val_loss: 0.4973 - val_accuracy: 0.8517\n",
            "Epoch 16/25\n",
            "10000/10000 [==============================] - 14s 1ms/step - loss: 0.4043 - accuracy: 0.8781 - val_loss: 0.4989 - val_accuracy: 0.8517\n",
            "Epoch 17/25\n",
            "10000/10000 [==============================] - 12s 1ms/step - loss: 0.4001 - accuracy: 0.8780 - val_loss: 0.5126 - val_accuracy: 0.8489\n",
            "Epoch 18/25\n",
            "10000/10000 [==============================] - 12s 1ms/step - loss: 0.3963 - accuracy: 0.8796 - val_loss: 0.5075 - val_accuracy: 0.8493\n",
            "Epoch 19/25\n",
            "10000/10000 [==============================] - 12s 1ms/step - loss: 0.3930 - accuracy: 0.8805 - val_loss: 0.5126 - val_accuracy: 0.8485\n",
            "Epoch 20/25\n",
            "10000/10000 [==============================] - 12s 1ms/step - loss: 0.3888 - accuracy: 0.8821 - val_loss: 0.5088 - val_accuracy: 0.8514\n",
            "Epoch 21/25\n",
            "10000/10000 [==============================] - 12s 1ms/step - loss: 0.3857 - accuracy: 0.8820 - val_loss: 0.5103 - val_accuracy: 0.8511\n",
            "Epoch 22/25\n",
            "10000/10000 [==============================] - 12s 1ms/step - loss: 0.3832 - accuracy: 0.8830 - val_loss: 0.5192 - val_accuracy: 0.8486\n",
            "Epoch 23/25\n",
            "10000/10000 [==============================] - 14s 1ms/step - loss: 0.3800 - accuracy: 0.8840 - val_loss: 0.5155 - val_accuracy: 0.8500\n",
            "Epoch 24/25\n",
            "10000/10000 [==============================] - 13s 1ms/step - loss: 0.3773 - accuracy: 0.8853 - val_loss: 0.5099 - val_accuracy: 0.8528\n",
            "Epoch 25/25\n",
            "10000/10000 [==============================] - 12s 1ms/step - loss: 0.3744 - accuracy: 0.8857 - val_loss: 0.5076 - val_accuracy: 0.8517\n"
          ],
          "name": "stdout"
        }
      ]
    },
    {
      "cell_type": "markdown",
      "metadata": {
        "id": "AE8CnvgkSS_F"
      },
      "source": [
        "### Experiment with Learning Rate\n",
        "* Run 5 experiments with various learning rate magnitudes: 1, .1, .01, .001, .0001.\n",
        "* Use the \"best\" batch size from the previous experiment\n",
        "* Visualize the results\n",
        "* Write up an analysis of the experiments and select the \"best\" performing model among your experiments. Make sure to compare against the previous experiments and your model's performance yesterday. "
      ]
    },
    {
      "cell_type": "code",
      "metadata": {
        "id": "aPXKYUAQSWh3",
        "colab": {
          "base_uri": "https://localhost:8080/",
          "height": 197
        },
        "outputId": "42ab9cd6-c00d-4b08-9073-6bd0b87ef43d"
      },
      "source": [
        "import seaborn as sns\n",
        "import pandas as pd\n",
        "\n",
        "batch_sizes = []\n",
        "\n",
        "for exp, result in zip([bt_default, bt_small, bt_big], [\"1\", \".1\", \".001\", \".0001\"]):\n",
        "#for exp, result in zip([bt_default, bt_small, bt_big], [\"32_\", \"8_\", \"512_\"]):\n",
        "    df = pd.DataFrame.from_dict(exp.history)\n",
        "    df['epoch'] = df.index.values\n",
        "    df['Batch Size'] = result\n",
        "    batch_sizes.append(df)\n",
        "\n",
        "df = pd.concat(batch_sizes)\n",
        "df['Batch Size'] = df['Batch Size'].astype('str')\n",
        "df.head()"
      ],
      "execution_count": null,
      "outputs": [
        {
          "output_type": "execute_result",
          "data": {
            "text/html": [
              "<div>\n",
              "<style scoped>\n",
              "    .dataframe tbody tr th:only-of-type {\n",
              "        vertical-align: middle;\n",
              "    }\n",
              "\n",
              "    .dataframe tbody tr th {\n",
              "        vertical-align: top;\n",
              "    }\n",
              "\n",
              "    .dataframe thead th {\n",
              "        text-align: right;\n",
              "    }\n",
              "</style>\n",
              "<table border=\"1\" class=\"dataframe\">\n",
              "  <thead>\n",
              "    <tr style=\"text-align: right;\">\n",
              "      <th></th>\n",
              "      <th>loss</th>\n",
              "      <th>accuracy</th>\n",
              "      <th>val_loss</th>\n",
              "      <th>val_accuracy</th>\n",
              "      <th>epoch</th>\n",
              "      <th>Batch Size</th>\n",
              "    </tr>\n",
              "  </thead>\n",
              "  <tbody>\n",
              "    <tr>\n",
              "      <th>0</th>\n",
              "      <td>1.184488</td>\n",
              "      <td>0.633550</td>\n",
              "      <td>0.892942</td>\n",
              "      <td>0.73720</td>\n",
              "      <td>0</td>\n",
              "      <td>1</td>\n",
              "    </tr>\n",
              "    <tr>\n",
              "      <th>1</th>\n",
              "      <td>0.829331</td>\n",
              "      <td>0.756450</td>\n",
              "      <td>0.781235</td>\n",
              "      <td>0.77240</td>\n",
              "      <td>1</td>\n",
              "      <td>1</td>\n",
              "    </tr>\n",
              "    <tr>\n",
              "      <th>2</th>\n",
              "      <td>0.749051</td>\n",
              "      <td>0.781412</td>\n",
              "      <td>0.727737</td>\n",
              "      <td>0.78685</td>\n",
              "      <td>2</td>\n",
              "      <td>1</td>\n",
              "    </tr>\n",
              "    <tr>\n",
              "      <th>3</th>\n",
              "      <td>0.697807</td>\n",
              "      <td>0.795350</td>\n",
              "      <td>0.694676</td>\n",
              "      <td>0.79280</td>\n",
              "      <td>3</td>\n",
              "      <td>1</td>\n",
              "    </tr>\n",
              "    <tr>\n",
              "      <th>4</th>\n",
              "      <td>0.660244</td>\n",
              "      <td>0.805525</td>\n",
              "      <td>0.660446</td>\n",
              "      <td>0.80730</td>\n",
              "      <td>4</td>\n",
              "      <td>1</td>\n",
              "    </tr>\n",
              "  </tbody>\n",
              "</table>\n",
              "</div>"
            ],
            "text/plain": [
              "       loss  accuracy  val_loss  val_accuracy  epoch Batch Size\n",
              "0  1.184488  0.633550  0.892942       0.73720      0          1\n",
              "1  0.829331  0.756450  0.781235       0.77240      1          1\n",
              "2  0.749051  0.781412  0.727737       0.78685      2          1\n",
              "3  0.697807  0.795350  0.694676       0.79280      3          1\n",
              "4  0.660244  0.805525  0.660446       0.80730      4          1"
            ]
          },
          "metadata": {
            "tags": []
          },
          "execution_count": 31
        }
      ]
    },
    {
      "cell_type": "code",
      "metadata": {
        "id": "PkGTesqZzCxg",
        "colab": {
          "base_uri": "https://localhost:8080/",
          "height": 278
        },
        "outputId": "64f7b32d-33b4-430e-d4eb-aea5ef50eac6"
      },
      "source": [
        "sns.lineplot(x='epoch', y='val_accuracy', hue='Batch Size', data=df);"
      ],
      "execution_count": null,
      "outputs": [
        {
          "output_type": "display_data",
          "data": {
            "image/png": "[encoded data removed]",
            "text/plain": [
              "<Figure size 432x288 with 1 Axes>"
            ]
          },
          "metadata": {
            "tags": [],
            "needs_background": "light"
          }
        }
      ]
    },
    {
      "cell_type": "markdown",
      "metadata": {
        "id": "8ueROJo2SW47"
      },
      "source": [
        "### Experiment with different Optimizers\n",
        "* Run 5 experiments with various optimizers available in TensorFlow. See list [here](https://www.tensorflow.org/api_docs/python/tf/keras/optimizers)\n",
        "* Visualize the results\n",
        "* Write up an analysis of the experiments and select the \"best\" performing model among your experiments. Make sure to compare against the previous experiments and your model's performance yesterday.\n",
        "* Repeat the experiment combining Learning Rate and different optimizers. Does the best performing model change? "
      ]
    },
    {
      "cell_type": "code",
      "metadata": {
        "id": "Q0kHJJ2S0sOU",
        "colab": {
          "base_uri": "https://localhost:8080/"
        },
        "outputId": "93fdd4e9-6583-4a72-b516-e486114e4526"
      },
      "source": [
        "model = create_model(lr=0.75)\n",
        "\n",
        "lr_high = model.fit(\n",
        "  X_train, y_train,\n",
        "  epochs=5,\n",
        "  batch_size=32,\n",
        "  validation_data=(X_test, y_test)\n",
        ")"
      ],
      "execution_count": null,
      "outputs": [
        {
          "output_type": "stream",
          "text": [
            "Epoch 1/5\n",
            "2500/2500 [==============================] - 4s 1ms/step - loss: 0.9339 - accuracy: 0.7117 - val_loss: 0.7858 - val_accuracy: 0.7771\n",
            "Epoch 2/5\n",
            "2500/2500 [==============================] - 3s 1ms/step - loss: 0.7801 - accuracy: 0.7677 - val_loss: 0.7494 - val_accuracy: 0.7825\n",
            "Epoch 3/5\n",
            "2500/2500 [==============================] - 3s 1ms/step - loss: 0.7554 - accuracy: 0.7782 - val_loss: 0.7270 - val_accuracy: 0.7911\n",
            "Epoch 4/5\n",
            "2500/2500 [==============================] - 3s 1ms/step - loss: 0.7391 - accuracy: 0.7843 - val_loss: 0.7335 - val_accuracy: 0.7944\n",
            "Epoch 5/5\n",
            "2500/2500 [==============================] - 3s 1ms/step - loss: 0.7144 - accuracy: 0.7886 - val_loss: 0.7329 - val_accuracy: 0.7901\n"
          ],
          "name": "stdout"
        }
      ]
    },
    {
      "cell_type": "code",
      "metadata": {
        "id": "ARYjjAy_07Ju",
        "colab": {
          "base_uri": "https://localhost:8080/"
        },
        "outputId": "59ca89f1-23e0-458a-80a3-b842c0c15240"
      },
      "source": [
        "\n",
        "lr_low = model.fit(\n",
        "  X_train, y_train,\n",
        "  epochs=5,\n",
        "  batch_size=32,\n",
        "  validation_data=(X_test, y_test)\n",
        ")"
      ],
      "execution_count": null,
      "outputs": [
        {
          "output_type": "stream",
          "text": [
            "Epoch 1/5\n",
            "2500/2500 [==============================] - 3s 1ms/step - loss: 0.7086 - accuracy: 0.7933 - val_loss: 0.7507 - val_accuracy: 0.7947\n",
            "Epoch 2/5\n",
            "2500/2500 [==============================] - 3s 1ms/step - loss: 0.7060 - accuracy: 0.7957 - val_loss: 0.7319 - val_accuracy: 0.7878\n",
            "Epoch 3/5\n",
            "2500/2500 [==============================] - 3s 1ms/step - loss: 0.6966 - accuracy: 0.7956 - val_loss: 0.7071 - val_accuracy: 0.7974\n",
            "Epoch 4/5\n",
            "2500/2500 [==============================] - 3s 1ms/step - loss: 0.7253 - accuracy: 0.7912 - val_loss: 0.7640 - val_accuracy: 0.7847\n",
            "Epoch 5/5\n",
            "2500/2500 [==============================] - 3s 1ms/step - loss: 0.6859 - accuracy: 0.8004 - val_loss: 0.7963 - val_accuracy: 0.7728\n"
          ],
          "name": "stdout"
        }
      ]
    },
    {
      "cell_type": "code",
      "metadata": {
        "id": "OFIGAsISSany",
        "colab": {
          "base_uri": "https://localhost:8080/",
          "height": 197
        },
        "outputId": "9facf35c-f664-4dfc-ca51-8b5a23ed7139"
      },
      "source": [
        "import seaborn as sns\n",
        "import pandas as pd\n",
        "\n",
        "batch_sizes = []\n",
        "\n",
        "for exp, result in zip([bt_default, lr_high, lr_low], [\"1\", \".1\", \".001\", \".0001\"]):\n",
        "    df = pd.DataFrame.from_dict(exp.history)\n",
        "    df['epoch'] = df.index.values\n",
        "    df['Learning Rate'] = result\n",
        "    batch_sizes.append(df)\n",
        "\n",
        "df = pd.concat(batch_sizes)\n",
        "df['Learning Rate'] = df['Learning Rate'].astype('str')\n",
        "df.head()"
      ],
      "execution_count": null,
      "outputs": [
        {
          "output_type": "execute_result",
          "data": {
            "text/html": [
              "<div>\n",
              "<style scoped>\n",
              "    .dataframe tbody tr th:only-of-type {\n",
              "        vertical-align: middle;\n",
              "    }\n",
              "\n",
              "    .dataframe tbody tr th {\n",
              "        vertical-align: top;\n",
              "    }\n",
              "\n",
              "    .dataframe thead th {\n",
              "        text-align: right;\n",
              "    }\n",
              "</style>\n",
              "<table border=\"1\" class=\"dataframe\">\n",
              "  <thead>\n",
              "    <tr style=\"text-align: right;\">\n",
              "      <th></th>\n",
              "      <th>loss</th>\n",
              "      <th>accuracy</th>\n",
              "      <th>val_loss</th>\n",
              "      <th>val_accuracy</th>\n",
              "      <th>epoch</th>\n",
              "      <th>Learning Rate</th>\n",
              "    </tr>\n",
              "  </thead>\n",
              "  <tbody>\n",
              "    <tr>\n",
              "      <th>0</th>\n",
              "      <td>1.184488</td>\n",
              "      <td>0.633550</td>\n",
              "      <td>0.892942</td>\n",
              "      <td>0.73720</td>\n",
              "      <td>0</td>\n",
              "      <td>1</td>\n",
              "    </tr>\n",
              "    <tr>\n",
              "      <th>1</th>\n",
              "      <td>0.829331</td>\n",
              "      <td>0.756450</td>\n",
              "      <td>0.781235</td>\n",
              "      <td>0.77240</td>\n",
              "      <td>1</td>\n",
              "      <td>1</td>\n",
              "    </tr>\n",
              "    <tr>\n",
              "      <th>2</th>\n",
              "      <td>0.749051</td>\n",
              "      <td>0.781412</td>\n",
              "      <td>0.727737</td>\n",
              "      <td>0.78685</td>\n",
              "      <td>2</td>\n",
              "      <td>1</td>\n",
              "    </tr>\n",
              "    <tr>\n",
              "      <th>3</th>\n",
              "      <td>0.697807</td>\n",
              "      <td>0.795350</td>\n",
              "      <td>0.694676</td>\n",
              "      <td>0.79280</td>\n",
              "      <td>3</td>\n",
              "      <td>1</td>\n",
              "    </tr>\n",
              "    <tr>\n",
              "      <th>4</th>\n",
              "      <td>0.660244</td>\n",
              "      <td>0.805525</td>\n",
              "      <td>0.660446</td>\n",
              "      <td>0.80730</td>\n",
              "      <td>4</td>\n",
              "      <td>1</td>\n",
              "    </tr>\n",
              "  </tbody>\n",
              "</table>\n",
              "</div>"
            ],
            "text/plain": [
              "       loss  accuracy  val_loss  val_accuracy  epoch Learning Rate\n",
              "0  1.184488  0.633550  0.892942       0.73720      0             1\n",
              "1  0.829331  0.756450  0.781235       0.77240      1             1\n",
              "2  0.749051  0.781412  0.727737       0.78685      2             1\n",
              "3  0.697807  0.795350  0.694676       0.79280      3             1\n",
              "4  0.660244  0.805525  0.660446       0.80730      4             1"
            ]
          },
          "metadata": {
            "tags": []
          },
          "execution_count": 38
        }
      ]
    },
    {
      "cell_type": "code",
      "metadata": {
        "id": "ixIWRxGyy-uU",
        "colab": {
          "base_uri": "https://localhost:8080/",
          "height": 278
        },
        "outputId": "c60e245f-2636-4a6e-944c-2a50ff890ab9"
      },
      "source": [
        "sns.lineplot(x='epoch', y='val_accuracy', hue='Learning Rate', data=df);"
      ],
      "execution_count": null,
      "outputs": [
        {
          "output_type": "display_data",
          "data": {
            "image/png": "[encoded data removed]",
            "text/plain": [
              "<Figure size 432x288 with 1 Axes>"
            ]
          },
          "metadata": {
            "tags": [],
            "needs_background": "light"
          }
        }
      ]
    },
    {
      "cell_type": "markdown",
      "metadata": {
        "id": "6A1-iPeHSbCw"
      },
      "source": [
        "### Additional Written Tasks\n",
        "\n",
        "1. Describe the process of backpropagation in your own words: \n",
        "```\n",
        "Your answer goes here.\n",
        "```\n",
        "\n"
      ]
    },
    {
      "cell_type": "markdown",
      "metadata": {
        "id": "R1SlQtPGSeXA"
      },
      "source": [
        "## Stretch Goals: \n",
        "\n",
        "- Implement GridSearch on anyone of the experiments\n",
        "- On the learning rate experiments, implement [EarlyStopping](https://www.tensorflow.org/api_docs/python/tf/keras/callbacks/EarlyStopping)\n",
        "- Review material on the math behind gradient descent: \n",
        "\n",
        "  - Gradient Descent\n",
        "    - Gradient Descent, Step-by-Step  by StatQuest w/ Josh Starmer. This will help you understand the gradient descent based optimization that happens underneath the hood of neural networks. It uses a non-neural network example, which I believe is a gentler introduction. You will hear me refer to this technique as \"vanilla\" gradient descent. \n",
        "    - Stochastic Gradient Descent, Clearly Explained!!! by StatQuest w/ Josh Starmer. This builds on the techniques in the previous video.  This technique is the one that is actually implemented inside modern 'nets. \n",
        "These are great resources to help you understand tomorrow's material at a deeper level. I highly recommend watching these ahead of tomorrow.\n",
        "\n",
        "  - Background Math\n",
        "    - Dot products and duality by 3Blue1Brown. Explains the core linear algebra operation happening in today's perceptron.\n",
        "The paradox of the derivative by 3Blue1Brown. Does a great job explaining a derivative. \n",
        "    - Visualizing the chain rule and product rule by 3Blue1Brown. Explains the black magic that happens within Stochastic Gradient Descent. \n",
        "These math resources are very much optional. They can be very heady, but I encourage you to explore. Your understanding of neural networks will greatly increase if you understand this math background."
      ]
    }
  ]
}