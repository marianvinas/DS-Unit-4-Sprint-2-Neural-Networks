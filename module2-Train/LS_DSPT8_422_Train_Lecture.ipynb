{
  "nbformat": 4,
  "nbformat_minor": 0,
  "metadata": {
    "colab": {
      "name": "LS_DSPT8_422_Train_Lecture.ipynb",
      "provenance": [],
      "collapsed_sections": []
    },
    "kernelspec": {
      "display_name": "Python 3",
      "language": "python",
      "name": "python3"
    },
    "language_info": {
      "codemirror_mode": {
        "name": "ipython",
        "version": 3
      },
      "file_extension": ".py",
      "mimetype": "text/x-python",
      "name": "python",
      "nbconvert_exporter": "python",
      "pygments_lexer": "ipython3",
      "version": "3.7.7"
    },
    "accelerator": "GPU"
  },
  "cells": [
    {
      "cell_type": "markdown",
      "metadata": {
        "id": "aS4GZ37Wgcjr"
      },
      "source": [
        "Lambda School Data Science\n",
        "\n",
        "*Unit 4, Sprint 2, Module 2*\n",
        "\n",
        "---"
      ]
    },
    {
      "cell_type": "markdown",
      "metadata": {
        "id": "etFf1WLWgcjt",
        "toc-hr-collapsed": false
      },
      "source": [
        "# Train (Prepare)\n",
        "__*Neural Network Foundations*__"
      ]
    },
    {
      "cell_type": "markdown",
      "metadata": {
        "id": "hXB80QOhgcju"
      },
      "source": [
        "## Learning Objectives\n",
        "* <a href=\"#p1\">Part 1</a>: Student should be able to explain the intuition behind backpropagation and gradient descent\n",
        "* <a href=\"#p2\">Part 2</a>: Student should be able to discuss the importance of batch size\n",
        "* <a href=\"#p3\">Part 3</a>: Student should be able to discuss the importance of learning rate"
      ]
    },
    {
      "cell_type": "markdown",
      "metadata": {
        "id": "8YuQu2lfgcju"
      },
      "source": [
        "## Summary of Yesterday\n",
        "\n",
        "Yesterday, we learned about some of the principal components of Neural Networks: Neurons, Weights, Activation Functions, and layers (input, output, & hidden). Today, we will reinforce our understanding of those components and introduce the mechanics of training a neural network. Feed-forward neural networks, such as multi-layer perceptrons (MLPs), are almost always trained using some variation of gradient descent where the gradient has been calculated by backpropagation.\n",
        "\n",
        "  <center><img src=\"https://raw.githubusercontent.com/LambdaSchool/DS-Unit-4-Sprint-2-Neural-Networks/main/module1-Architect/IMG_0167.jpeg\" width=400></center>\n",
        "\n",
        "- There are three kinds of layers: input, hidden, and output layers.\n",
        "- Each layer is made up of **n** individual neurons (aka activation units) which have a corresponding weight and bias.\n",
        "- Signal is passed from layer to layer through a network by:\n",
        " - Taking in inputs from the training data (or previous layer)\n",
        " - Multiplying each input by its corresponding weight (think arrow/connecting line)\n",
        " - Adding a bias to this weighted some of inputs and weights\n",
        " - Activating this weighted sum + bias by squishifying it with sigmoid or some other activation function. With a single perceptron with three inputs, calculating the output from the node is done like so:\n",
        "\\begin{align}\n",
        " y = sigmoid(\\sum(weight_{1}input_{1} + weight_{2}input_{2} + weight_{3}input_{3}) + bias)\n",
        "\\end{align}\n",
        " - this final activated value is the signal that gets passed onto the next layer of the network.\n",
        " "
      ]
    },
    {
      "cell_type": "markdown",
      "metadata": {
        "id": "bpi4R03rgcjv"
      },
      "source": [
        "## Training a Neural Network: *Formal Summary*\n",
        "\n",
        "0. Pick a network architecture\n",
        "   - No. of input units = No. of features\n",
        "   - No. of output units = Number of Classes (or expected targets)\n",
        "   - Select the number of hidden layers and number of neurons within each hidden layer\n",
        "1. Randomly initialize weights\n",
        "2. Implement forward propagation to get $h_{\\theta}(x^{(i)})$ for any $x^{(i)}$\n",
        "3. Implement code to compute a cost function $J(\\theta)$\n",
        "4. Implement backpropagation to compute partial derivatives $\\frac{\\delta}{\\delta\\theta_{jk}^{l}}{J(\\theta)}$\n",
        "5. Use gradient descent (or other advanced optimizer) with backpropagation to minimize $J(\\theta)$ as a function of parameters $\\theta\\$\n",
        "6. Repeat steps 2 - 5 until cost function is 'minimized' or some other stopping criteria is met. One pass over steps 2 - 5 is called an iteration or epoch."
      ]
    },
    {
      "cell_type": "markdown",
      "metadata": {
        "id": "aM4CK1IarId4",
        "toc-hr-collapsed": false
      },
      "source": [
        "# Backpropagation & Gradient Descent (Learn)\n",
        "<a id=\"p1\"></a>"
      ]
    },
    {
      "cell_type": "markdown",
      "metadata": {
        "id": "Ktm8Fmoagcjy",
        "toc-hr-collapsed": true
      },
      "source": [
        "## Overview\n",
        "\n",
        "Backpropagation is short for [\"Backwards Propagation of errors\"](https://en.wikipedia.org/wiki/Backpropagation) and refers to a specific (rather calculus intensive) algorithm for how weights in a neural network are updated in reverse order at the end of each training epoch. Our purpose today is to demonstrate the backpropagation algorithm on a simple Feedforward Neural Network and in so doing help you get a grasp on the main process. If you want to understand all of the underlying calculus of how the gradients are calculated then you'll need to dive into it yourself, [3Blue1Brown's video is a great starting place](https://www.youtube.com/watch?v=tIeHLnjs5U8). I also highly recommend this Welch Labs series [Neural Networks Demystified](https://www.youtube.com/watch?v=bxe2T-V8XRs) if you want a rapid yet orderly walk through of the main intuitions and math behind the backpropagation algorithm. "
      ]
    },
    {
      "cell_type": "markdown",
      "metadata": {
        "id": "NXI2tEO9gcjy"
      },
      "source": [
        "### What is a Gradient?\n",
        "\n",
        "> In vector calculus, the gradient is a multi-variable generalization of the derivative. \n",
        "\n",
        "The gradients that we will deal with today will be vector representations of the derivative of the activation function. "
      ]
    },
    {
      "cell_type": "markdown",
      "metadata": {
        "id": "UZY66kiUgcjz",
        "toc-hr-collapsed": true
      },
      "source": [
        "## Follow Along\n",
        "\n",
        "In this section, we will again a simple neural network using base TensorFlow. We'll focus on using a __Feed Forward Neural Network__ to predict test scores. "
      ]
    },
    {
      "cell_type": "markdown",
      "metadata": {
        "id": "Dm2HPETcrgy6",
        "toc-hr-collapsed": true
      },
      "source": [
        "<center><img src=\"https://raw.githubusercontent.com/LambdaSchool/DS-Unit-4-Sprint-2-Neural-Networks/main/module1-Architect/IMG_99C94113202D-1.jpeg\"width=500></center>"
      ]
    },
    {
      "cell_type": "markdown",
      "metadata": {
        "id": "4d4tzpwO6B47"
      },
      "source": [
        "### Generate some Fake Data"
      ]
    },
    {
      "cell_type": "code",
      "metadata": {
        "id": "ERyVgeO_IWyV"
      },
      "source": [
        "import tensorflow as tf\n",
        "\n",
        "# Imagine that our data is drawn from a linear function\n",
        "# y = 3.5*hours_studying + 50\n",
        "\n",
        "TRUE_W = 3.5\n",
        "TRUE_b = 50.0\n",
        "NUM_EXAMPLES = 1000\n",
        "\n",
        "inputs = tf.random.normal(shape=[NUM_EXAMPLES])\n",
        "noise = tf.random.normal(shape=[NUM_EXAMPLES])\n",
        "\n",
        "outputs = inputs * TRUE_W + TRUE_b + noise"
      ],
      "execution_count": null,
      "outputs": []
    },
    {
      "cell_type": "markdown",
      "metadata": {
        "id": "bCJesGEUgcj4"
      },
      "source": [
        "### Loss Function\n",
        "Here we will use Mean Squared Error (MSE), because this is a regression problem. We are trying to predict a continuous target."
      ]
    },
    {
      "cell_type": "code",
      "metadata": {
        "id": "cDeUBW6k4Ri4"
      },
      "source": [
        "def loss(target_y, predicted_y):\n",
        "  \"MSE\"\n",
        "  return tf.reduce_mean(tf.square(target_y - predicted_y))"
      ],
      "execution_count": null,
      "outputs": []
    },
    {
      "cell_type": "markdown",
      "metadata": {
        "id": "bgTf6vTS69Sw"
      },
      "source": [
        "### Neural Network Architecture\n",
        "Lets create a Neural Network class called \"Model\" to contain this functionality. Note: This is essentially a linear regression whose coefficients are trained by gradient descent. In practice, gradient descent works on much more complex function like the multi-layer networks we constructed yesterday."
      ]
    },
    {
      "cell_type": "code",
      "metadata": {
        "id": "RUI8VSR5zyBv"
      },
      "source": [
        "class Model(object):\n",
        "\n",
        "  def __init__(self):\n",
        "    self.W = tf.Variable(8.0)\n",
        "    self.b = tf.Variable(40.0)\n",
        "\n",
        "  def __call__(self, x):\n",
        "    return self.W * x + self.b\n",
        "\n",
        "model = Model()\n",
        "\n",
        "assert model(3.0).numpy() == 64.0"
      ],
      "execution_count": null,
      "outputs": []
    },
    {
      "cell_type": "markdown",
      "metadata": {
        "id": "gbyT_FJ88IlK"
      },
      "source": [
        "### Initial Weights\n",
        "The initial weights in our model were arbitrary. In practice, weights are initialized randomly. "
      ]
    },
    {
      "cell_type": "code",
      "metadata": {
        "colab": {
          "base_uri": "https://localhost:8080/",
          "height": 283
        },
        "id": "IreIDe6P8H0H",
        "outputId": "b593ce0c-0b38-486a-8e8b-07a3ac864328"
      },
      "source": [
        "import matplotlib.pyplot as plt\n",
        "\n",
        "plt.scatter(inputs, outputs, c='b')\n",
        "plt.scatter(inputs, model(inputs), c='r')\n",
        "plt.show()\n",
        "\n",
        "print('Current loss: %1.6f' % loss(model(inputs), outputs).numpy())"
      ],
      "execution_count": null,
      "outputs": [
        {
          "output_type": "display_data",
          "data": {
            "image/png": "[encoded data removed]",
            "text/plain": [
              "<Figure size 432x288 with 1 Axes>"
            ]
          },
          "metadata": {
            "tags": [],
            "needs_background": "light"
          }
        },
        {
          "output_type": "stream",
          "text": [
            "Current loss: 125.231812\n"
          ],
          "name": "stdout"
        }
      ]
    },
    {
      "cell_type": "markdown",
      "metadata": {
        "id": "16Ujj6vNYQyX",
        "toc-hr-collapsed": true
      },
      "source": [
        "### Update Weights Based on Gradient\n",
        "\n",
        "> *Assigning blame for bad predictions and delivering justice - repeatedly and a little bit at a time*\n",
        "\n",
        "You should also know that with neural networks it is common to have gradients that are not convex (like what we saw when we applied gradient descent to linear regression). \n",
        "\n",
        "Due to the high complexity of these models and their nonlinearity, it is common for gradient descent to get stuck in a local minimum, but there are ways to combat this:\n",
        "\n",
        "1) Stochastic Gradient Descent\n",
        "\n",
        "2) More advanced Gradient-Descent-based \"Optimizers\" - See Stretch Goals on assignment."
      ]
    },
    {
      "cell_type": "code",
      "metadata": {
        "id": "ZgaGD6YlHoid"
      },
      "source": [
        " def train(model, inputs, outputs, learning_rate):\n",
        "  with tf.GradientTape() as t: \n",
        "     current_loss = loss(outputs, model(inputs))\n",
        "  dW, db = t.gradient(current_loss, [model.W, model.b])\n",
        "  model.W.assign_sub(learning_rate * dW)\n",
        "  model.b.assign_sub(learning_rate * db)"
      ],
      "execution_count": null,
      "outputs": []
    },
    {
      "cell_type": "markdown",
      "metadata": {
        "id": "7iziWWURgck8"
      },
      "source": [
        "### Train the Network"
      ]
    },
    {
      "cell_type": "code",
      "metadata": {
        "colab": {
          "base_uri": "https://localhost:8080/"
        },
        "id": "4zn_HgFuHhTr",
        "outputId": "23c55683-6741-4739-8a0a-0cf00c8cf2a8"
      },
      "source": [
        "model = Model()\n",
        "\n",
        "# Store Some history of weights\n",
        "Ws, bs = [], []\n",
        "epochs = range(20)\n",
        "for epoch in epochs:\n",
        "  Ws.append(model.W.numpy())\n",
        "  bs.append(model.b.numpy())\n",
        "  current_loss = loss(outputs, model(inputs))\n",
        "\n",
        "  train(model, inputs, outputs, learning_rate=0.1)\n",
        "  print('Epoch %2d: W=%1.2f b=%1.2f loss=%2.5f' % (epoch, Ws[-1], bs[-1], current_loss))"
      ],
      "execution_count": null,
      "outputs": [
        {
          "output_type": "stream",
          "text": [
            "Epoch  0: W=8.00 b=40.00 loss=125.23181\n",
            "Epoch  1: W=6.99 b=42.03 loss=79.08005\n",
            "Epoch  2: W=6.20 b=43.65 loss=50.07660\n",
            "Epoch  3: W=5.59 b=44.93 loss=31.84457\n",
            "Epoch  4: W=5.11 b=45.96 loss=20.38029\n",
            "Epoch  5: W=4.73 b=46.78 loss=13.16938\n",
            "Epoch  6: W=4.44 b=47.42 loss=8.63243\n",
            "Epoch  7: W=4.22 b=47.94 loss=5.77697\n",
            "Epoch  8: W=4.04 b=48.35 loss=3.97923\n",
            "Epoch  9: W=3.91 b=48.68 loss=2.84703\n",
            "Epoch 10: W=3.80 b=48.94 loss=2.13375\n",
            "Epoch 11: W=3.72 b=49.15 loss=1.68424\n",
            "Epoch 12: W=3.66 b=49.32 loss=1.40085\n",
            "Epoch 13: W=3.61 b=49.45 loss=1.22213\n",
            "Epoch 14: W=3.57 b=49.56 loss=1.10938\n",
            "Epoch 15: W=3.54 b=49.64 loss=1.03822\n",
            "Epoch 16: W=3.52 b=49.71 loss=0.99329\n",
            "Epoch 17: W=3.50 b=49.76 loss=0.96491\n",
            "Epoch 18: W=3.49 b=49.80 loss=0.94699\n",
            "Epoch 19: W=3.48 b=49.84 loss=0.93565\n"
          ],
          "name": "stdout"
        }
      ]
    },
    {
      "cell_type": "code",
      "metadata": {
        "colab": {
          "base_uri": "https://localhost:8080/",
          "height": 265
        },
        "id": "FSEt07wdHvi2",
        "outputId": "0f386134-0a54-463d-e133-038844563f79"
      },
      "source": [
        "import matplotlib.pyplot as plt\n",
        "\n",
        "plt.plot(epochs, Ws, 'r', epochs, bs, 'b')\n",
        "plt.plot([TRUE_W] * len(epochs), 'r--',\n",
        "         [TRUE_b] * len(epochs), 'b--')\n",
        "plt.legend(['W', 'b', 'True W', 'True b'])\n",
        "plt.show()"
      ],
      "execution_count": null,
      "outputs": [
        {
          "output_type": "display_data",
          "data": {
            "image/png": "[encoded data removed]",
            "text/plain": [
              "<Figure size 432x288 with 1 Axes>"
            ]
          },
          "metadata": {
            "tags": [],
            "needs_background": "light"
          }
        }
      ]
    },
    {
      "cell_type": "markdown",
      "metadata": {
        "id": "iKUVGoRxgck_"
      },
      "source": [
        "## Challenge\n",
        "\n",
        "In the module project, you will be asked to explain the logic of backpropagation and gradient descent."
      ]
    },
    {
      "cell_type": "markdown",
      "metadata": {
        "id": "O8zRvscnQipe"
      },
      "source": [
        "### In the following two sections we'll look at batch size and learning rate hyperparameters in isolation. \n",
        "However, it's important to know that recent research found some interesting relationships between batch sizes and learning rates. The best available suggestion today is to scale batch size proportionally to a learning rate:\n",
        "- https://openreview.net/pdf?id=B1Yy1BxCZ\n",
        "- https://papers.nips.cc/paper/8398-control-batch-size-and-learning-rate-to-generalize-well-theoretical-and-empirical-evidence.pdf"
      ]
    },
    {
      "cell_type": "markdown",
      "metadata": {
        "id": "vTqZg-6igclA",
        "toc-hr-collapsed": true
      },
      "source": [
        "# Batch Size (Learn)"
      ]
    },
    {
      "cell_type": "markdown",
      "metadata": {
        "id": "0nrm-racgclA"
      },
      "source": [
        "## Overview\n",
        "\n",
        "The What - Stochastic Gradient Descent calculates an approximation of the gradient over the entire dataset by reviewing the predictions of a random sample. \n",
        "\n",
        "The Why - *Speed*. Calculating the gradient over the entire dataset is extremely expensive computationally. \n",
        "\n",
        "### Batch Size\n",
        "Batches are the number of observations our model is shown to make predictions and update the weights. Batches are selected randomly during epoch. All observations are considered when passing thru an epoch at some point."
      ]
    },
    {
      "cell_type": "markdown",
      "metadata": {
        "id": "oNQ2ZCi7I4i6"
      },
      "source": [
        "### Baseline Model"
      ]
    },
    {
      "cell_type": "code",
      "metadata": {
        "id": "mZjW2lYVI9Q2",
        "colab": {
          "base_uri": "https://localhost:8080/"
        },
        "outputId": "1794a1c9-0a99-4f1c-ebc6-29ded8e50430"
      },
      "source": [
        "from tensorflow.keras.datasets import mnist\n",
        "\n",
        "(X_train, y_train), (X_test, y_test) = mnist.load_data()\n",
        "\n",
        "X_train = X_train / 255.\n",
        "X_test = X_test / 255.\n",
        "\n",
        "X_train = X_train.reshape((60000, 784))\n",
        "X_test = X_test.reshape((10000, 784))"
      ],
      "execution_count": null,
      "outputs": [
        {
          "output_type": "stream",
          "text": [
            "Downloading data from https://storage.googleapis.com/tensorflow/tf-keras-datasets/mnist.npz\n",
            "11493376/11490434 [==============================] - 0s 0us/step\n"
          ],
          "name": "stdout"
        }
      ]
    },
    {
      "cell_type": "code",
      "metadata": {
        "id": "o7x17kDKJSy5"
      },
      "source": [
        "# Our Model\n",
        "from tensorflow.keras import Sequential\n",
        "from tensorflow.keras.layers import Dense\n",
        "from tensorflow.keras.optimizers import Adam, SGD\n",
        "\n",
        "def create_model(learning_rate=0.01):\n",
        "  opt = SGD(lr=learning_rate)\n",
        "  model = Sequential([\n",
        "    Dense(64, input_dim=784, activation='relu'),\n",
        "    Dense(32, activation='relu'),\n",
        "    Dense(10, activation='softmax')\n",
        "  ])\n",
        "  model.compile(optimizer=opt, \n",
        "                loss='sparse_categorical_crossentropy',\n",
        "                metrics=['accuracy'])\n",
        "  return model"
      ],
      "execution_count": null,
      "outputs": []
    },
    {
      "cell_type": "markdown",
      "metadata": {
        "id": "ZF7UE-KluPsX"
      },
      "source": [
        "## Follow Along\n",
        "Let's run a series of experiments for a default, small, and large batch size."
      ]
    },
    {
      "cell_type": "markdown",
      "metadata": {
        "id": "VhpDaVFRJl3U"
      },
      "source": [
        "### Default\n",
        "Batch Size is 32"
      ]
    },
    {
      "cell_type": "code",
      "metadata": {
        "id": "P-ChVGikgclD",
        "colab": {
          "base_uri": "https://localhost:8080/"
        },
        "outputId": "f8db21df-3fbe-4098-9b39-cc531801ea5a"
      },
      "source": [
        "model = create_model()\r\n",
        "model.summary()"
      ],
      "execution_count": null,
      "outputs": [
        {
          "output_type": "stream",
          "text": [
            "Model: \"sequential\"\n",
            "_________________________________________________________________\n",
            "Layer (type)                 Output Shape              Param #   \n",
            "=================================================================\n",
            "dense (Dense)                (None, 64)                50240     \n",
            "_________________________________________________________________\n",
            "dense_1 (Dense)              (None, 32)                2080      \n",
            "_________________________________________________________________\n",
            "dense_2 (Dense)              (None, 10)                330       \n",
            "=================================================================\n",
            "Total params: 52,650\n",
            "Trainable params: 52,650\n",
            "Non-trainable params: 0\n",
            "_________________________________________________________________\n"
          ],
          "name": "stdout"
        }
      ]
    },
    {
      "cell_type": "code",
      "metadata": {
        "colab": {
          "base_uri": "https://localhost:8080/"
        },
        "id": "AGiJZztJWNRg",
        "outputId": "84e8bce2-980c-4a93-c741-78fa6bcd8e70"
      },
      "source": [
        "bt_default = model.fit(X_train, y_train,\r\n",
        "                       epochs=20,\r\n",
        "                       batch_size=32,\r\n",
        "                       validation_data=(X_test, y_test))"
      ],
      "execution_count": null,
      "outputs": [
        {
          "output_type": "stream",
          "text": [
            "Epoch 1/20\n",
            "1875/1875 [==============================] - 6s 2ms/step - loss: 1.2283 - accuracy: 0.6428 - val_loss: 0.3358 - val_accuracy: 0.9066\n",
            "Epoch 2/20\n",
            "1875/1875 [==============================] - 4s 2ms/step - loss: 0.3347 - accuracy: 0.9038 - val_loss: 0.2697 - val_accuracy: 0.9244\n",
            "Epoch 3/20\n",
            "1875/1875 [==============================] - 4s 2ms/step - loss: 0.2797 - accuracy: 0.9203 - val_loss: 0.2399 - val_accuracy: 0.9316\n",
            "Epoch 4/20\n",
            "1875/1875 [==============================] - 4s 2ms/step - loss: 0.2393 - accuracy: 0.9317 - val_loss: 0.2123 - val_accuracy: 0.9390\n",
            "Epoch 5/20\n",
            "1875/1875 [==============================] - 4s 2ms/step - loss: 0.2100 - accuracy: 0.9405 - val_loss: 0.1879 - val_accuracy: 0.9458\n",
            "Epoch 6/20\n",
            "1875/1875 [==============================] - 4s 2ms/step - loss: 0.1817 - accuracy: 0.9486 - val_loss: 0.1702 - val_accuracy: 0.9514\n",
            "Epoch 7/20\n",
            "1875/1875 [==============================] - 4s 2ms/step - loss: 0.1731 - accuracy: 0.9508 - val_loss: 0.1642 - val_accuracy: 0.9527\n",
            "Epoch 8/20\n",
            "1875/1875 [==============================] - 4s 2ms/step - loss: 0.1584 - accuracy: 0.9543 - val_loss: 0.1535 - val_accuracy: 0.9551\n",
            "Epoch 9/20\n",
            "1875/1875 [==============================] - 4s 2ms/step - loss: 0.1458 - accuracy: 0.9593 - val_loss: 0.1450 - val_accuracy: 0.9598\n",
            "Epoch 10/20\n",
            "1875/1875 [==============================] - 4s 2ms/step - loss: 0.1280 - accuracy: 0.9637 - val_loss: 0.1377 - val_accuracy: 0.9611\n",
            "Epoch 11/20\n",
            "1875/1875 [==============================] - 4s 2ms/step - loss: 0.1258 - accuracy: 0.9634 - val_loss: 0.1309 - val_accuracy: 0.9603\n",
            "Epoch 12/20\n",
            "1875/1875 [==============================] - 4s 2ms/step - loss: 0.1182 - accuracy: 0.9666 - val_loss: 0.1249 - val_accuracy: 0.9616\n",
            "Epoch 13/20\n",
            "1875/1875 [==============================] - 4s 2ms/step - loss: 0.1097 - accuracy: 0.9688 - val_loss: 0.1221 - val_accuracy: 0.9638\n",
            "Epoch 14/20\n",
            "1875/1875 [==============================] - 4s 2ms/step - loss: 0.1047 - accuracy: 0.9704 - val_loss: 0.1187 - val_accuracy: 0.9655\n",
            "Epoch 15/20\n",
            "1875/1875 [==============================] - 4s 2ms/step - loss: 0.1012 - accuracy: 0.9703 - val_loss: 0.1149 - val_accuracy: 0.9665\n",
            "Epoch 16/20\n",
            "1875/1875 [==============================] - 4s 2ms/step - loss: 0.0931 - accuracy: 0.9734 - val_loss: 0.1112 - val_accuracy: 0.9681\n",
            "Epoch 17/20\n",
            "1875/1875 [==============================] - 4s 2ms/step - loss: 0.0942 - accuracy: 0.9733 - val_loss: 0.1111 - val_accuracy: 0.9676\n",
            "Epoch 18/20\n",
            "1875/1875 [==============================] - 4s 2ms/step - loss: 0.0910 - accuracy: 0.9739 - val_loss: 0.1046 - val_accuracy: 0.9681\n",
            "Epoch 19/20\n",
            "1875/1875 [==============================] - 4s 2ms/step - loss: 0.0791 - accuracy: 0.9768 - val_loss: 0.1051 - val_accuracy: 0.9691\n",
            "Epoch 20/20\n",
            "1875/1875 [==============================] - 4s 2ms/step - loss: 0.0755 - accuracy: 0.9790 - val_loss: 0.1037 - val_accuracy: 0.9675\n"
          ],
          "name": "stdout"
        }
      ]
    },
    {
      "cell_type": "markdown",
      "metadata": {
        "id": "KvsbOFnDJuG0"
      },
      "source": [
        "### Small Batch Size\n",
        "Batch Size is 8"
      ]
    },
    {
      "cell_type": "code",
      "metadata": {
        "id": "diDzvb-UJ1je",
        "colab": {
          "base_uri": "https://localhost:8080/"
        },
        "outputId": "3fc8a1e1-461d-44c4-f583-05821501d16f"
      },
      "source": [
        "model = create_model()\r\n",
        "bt_small = model.fit(X_train, y_train,\r\n",
        "                     epochs=20,\r\n",
        "                     batch_size=8,\r\n",
        "                     validation_data=(X_test, y_test))"
      ],
      "execution_count": null,
      "outputs": [
        {
          "output_type": "stream",
          "text": [
            "Epoch 1/20\n",
            "7500/7500 [==============================] - 15s 2ms/step - loss: 0.6342 - accuracy: 0.8120 - val_loss: 0.2173 - val_accuracy: 0.9397\n",
            "Epoch 2/20\n",
            "7500/7500 [==============================] - 15s 2ms/step - loss: 0.1991 - accuracy: 0.9418 - val_loss: 0.1554 - val_accuracy: 0.9535\n",
            "Epoch 3/20\n",
            "7500/7500 [==============================] - 14s 2ms/step - loss: 0.1471 - accuracy: 0.9571 - val_loss: 0.1314 - val_accuracy: 0.9592\n",
            "Epoch 4/20\n",
            "7500/7500 [==============================] - 14s 2ms/step - loss: 0.1123 - accuracy: 0.9667 - val_loss: 0.1160 - val_accuracy: 0.9652\n",
            "Epoch 5/20\n",
            "7500/7500 [==============================] - 14s 2ms/step - loss: 0.0953 - accuracy: 0.9716 - val_loss: 0.1061 - val_accuracy: 0.9669\n",
            "Epoch 6/20\n",
            "7500/7500 [==============================] - 14s 2ms/step - loss: 0.0836 - accuracy: 0.9745 - val_loss: 0.1014 - val_accuracy: 0.9677\n",
            "Epoch 7/20\n",
            "7500/7500 [==============================] - 14s 2ms/step - loss: 0.0739 - accuracy: 0.9787 - val_loss: 0.0890 - val_accuracy: 0.9729\n",
            "Epoch 8/20\n",
            "7500/7500 [==============================] - 14s 2ms/step - loss: 0.0632 - accuracy: 0.9805 - val_loss: 0.0883 - val_accuracy: 0.9730\n",
            "Epoch 9/20\n",
            "7500/7500 [==============================] - 15s 2ms/step - loss: 0.0572 - accuracy: 0.9823 - val_loss: 0.0941 - val_accuracy: 0.9720\n",
            "Epoch 10/20\n",
            "7500/7500 [==============================] - 14s 2ms/step - loss: 0.0458 - accuracy: 0.9861 - val_loss: 0.0865 - val_accuracy: 0.9734\n",
            "Epoch 11/20\n",
            "7500/7500 [==============================] - 14s 2ms/step - loss: 0.0456 - accuracy: 0.9868 - val_loss: 0.0957 - val_accuracy: 0.9705\n",
            "Epoch 12/20\n",
            "7500/7500 [==============================] - 15s 2ms/step - loss: 0.0398 - accuracy: 0.9885 - val_loss: 0.0868 - val_accuracy: 0.9740\n",
            "Epoch 13/20\n",
            "7500/7500 [==============================] - 14s 2ms/step - loss: 0.0347 - accuracy: 0.9899 - val_loss: 0.0901 - val_accuracy: 0.9721\n",
            "Epoch 14/20\n",
            "7500/7500 [==============================] - 15s 2ms/step - loss: 0.0306 - accuracy: 0.9912 - val_loss: 0.0821 - val_accuracy: 0.9757\n",
            "Epoch 15/20\n",
            "7500/7500 [==============================] - 14s 2ms/step - loss: 0.0278 - accuracy: 0.9916 - val_loss: 0.0941 - val_accuracy: 0.9733\n",
            "Epoch 16/20\n",
            "7500/7500 [==============================] - 14s 2ms/step - loss: 0.0264 - accuracy: 0.9918 - val_loss: 0.0914 - val_accuracy: 0.9757\n",
            "Epoch 17/20\n",
            "7500/7500 [==============================] - 15s 2ms/step - loss: 0.0231 - accuracy: 0.9935 - val_loss: 0.0960 - val_accuracy: 0.9726\n",
            "Epoch 18/20\n",
            "7500/7500 [==============================] - 14s 2ms/step - loss: 0.0216 - accuracy: 0.9940 - val_loss: 0.0895 - val_accuracy: 0.9751\n",
            "Epoch 19/20\n",
            "7500/7500 [==============================] - 14s 2ms/step - loss: 0.0180 - accuracy: 0.9953 - val_loss: 0.0876 - val_accuracy: 0.9766\n",
            "Epoch 20/20\n",
            "7500/7500 [==============================] - 15s 2ms/step - loss: 0.0159 - accuracy: 0.9959 - val_loss: 0.0918 - val_accuracy: 0.9766\n"
          ],
          "name": "stdout"
        }
      ]
    },
    {
      "cell_type": "markdown",
      "metadata": {
        "id": "_iPvvvt5J2Xl"
      },
      "source": [
        "### Large Batch Size\n",
        "Batch Size is 512"
      ]
    },
    {
      "cell_type": "code",
      "metadata": {
        "id": "7h8Z5293KABT",
        "colab": {
          "base_uri": "https://localhost:8080/"
        },
        "outputId": "dd59b071-22b1-476c-8965-0c6d21060d26"
      },
      "source": [
        "model = create_model()\r\n",
        "bt_large = model.fit(X_train, y_train,\r\n",
        "                     epochs=20,\r\n",
        "                     batch_size=512,\r\n",
        "                     validation_data=(X_test, y_test))"
      ],
      "execution_count": null,
      "outputs": [
        {
          "output_type": "stream",
          "text": [
            "Epoch 1/20\n",
            "118/118 [==============================] - 1s 4ms/step - loss: 2.2275 - accuracy: 0.1971 - val_loss: 1.8681 - val_accuracy: 0.4967\n",
            "Epoch 2/20\n",
            "118/118 [==============================] - 0s 3ms/step - loss: 1.7387 - accuracy: 0.5359 - val_loss: 1.2868 - val_accuracy: 0.6895\n",
            "Epoch 3/20\n",
            "118/118 [==============================] - 0s 3ms/step - loss: 1.1954 - accuracy: 0.7047 - val_loss: 0.9002 - val_accuracy: 0.7793\n",
            "Epoch 4/20\n",
            "118/118 [==============================] - 0s 4ms/step - loss: 0.8677 - accuracy: 0.7842 - val_loss: 0.7026 - val_accuracy: 0.8245\n",
            "Epoch 5/20\n",
            "118/118 [==============================] - 0s 3ms/step - loss: 0.6939 - accuracy: 0.8228 - val_loss: 0.5913 - val_accuracy: 0.8459\n",
            "Epoch 6/20\n",
            "118/118 [==============================] - 0s 3ms/step - loss: 0.5879 - accuracy: 0.8466 - val_loss: 0.5210 - val_accuracy: 0.8622\n",
            "Epoch 7/20\n",
            "118/118 [==============================] - 0s 3ms/step - loss: 0.5229 - accuracy: 0.8625 - val_loss: 0.4740 - val_accuracy: 0.8729\n",
            "Epoch 8/20\n",
            "118/118 [==============================] - 0s 3ms/step - loss: 0.4834 - accuracy: 0.8684 - val_loss: 0.4424 - val_accuracy: 0.8791\n",
            "Epoch 9/20\n",
            "118/118 [==============================] - 0s 3ms/step - loss: 0.4525 - accuracy: 0.8762 - val_loss: 0.4153 - val_accuracy: 0.8846\n",
            "Epoch 10/20\n",
            "118/118 [==============================] - 0s 3ms/step - loss: 0.4223 - accuracy: 0.8836 - val_loss: 0.3973 - val_accuracy: 0.8885\n",
            "Epoch 11/20\n",
            "118/118 [==============================] - 0s 3ms/step - loss: 0.4076 - accuracy: 0.8862 - val_loss: 0.3811 - val_accuracy: 0.8924\n",
            "Epoch 12/20\n",
            "118/118 [==============================] - 0s 3ms/step - loss: 0.3885 - accuracy: 0.8901 - val_loss: 0.3688 - val_accuracy: 0.8956\n",
            "Epoch 13/20\n",
            "118/118 [==============================] - 0s 4ms/step - loss: 0.3802 - accuracy: 0.8922 - val_loss: 0.3576 - val_accuracy: 0.8985\n",
            "Epoch 14/20\n",
            "118/118 [==============================] - 0s 4ms/step - loss: 0.3679 - accuracy: 0.8955 - val_loss: 0.3492 - val_accuracy: 0.9009\n",
            "Epoch 15/20\n",
            "118/118 [==============================] - 0s 4ms/step - loss: 0.3593 - accuracy: 0.8986 - val_loss: 0.3402 - val_accuracy: 0.9032\n",
            "Epoch 16/20\n",
            "118/118 [==============================] - 0s 4ms/step - loss: 0.3512 - accuracy: 0.8998 - val_loss: 0.3333 - val_accuracy: 0.9055\n",
            "Epoch 17/20\n",
            "118/118 [==============================] - 0s 3ms/step - loss: 0.3435 - accuracy: 0.9027 - val_loss: 0.3269 - val_accuracy: 0.9073\n",
            "Epoch 18/20\n",
            "118/118 [==============================] - 0s 3ms/step - loss: 0.3329 - accuracy: 0.9050 - val_loss: 0.3193 - val_accuracy: 0.9089\n",
            "Epoch 19/20\n",
            "118/118 [==============================] - 0s 4ms/step - loss: 0.3291 - accuracy: 0.9065 - val_loss: 0.3145 - val_accuracy: 0.9100\n",
            "Epoch 20/20\n",
            "118/118 [==============================] - 0s 3ms/step - loss: 0.3187 - accuracy: 0.9091 - val_loss: 0.3079 - val_accuracy: 0.9133\n"
          ],
          "name": "stdout"
        }
      ]
    },
    {
      "cell_type": "markdown",
      "metadata": {
        "id": "B0ujUz6BKUGz"
      },
      "source": [
        "### Visualization of Results"
      ]
    },
    {
      "cell_type": "code",
      "metadata": {
        "id": "o-5DOZNMKYt-",
        "colab": {
          "base_uri": "https://localhost:8080/",
          "height": 203
        },
        "outputId": "a85d4255-7da7-43eb-fe12-872623495d73"
      },
      "source": [
        "import seaborn as sns\r\n",
        "import pandas as pd\r\n",
        "\r\n",
        "batch_sizes = []\r\n",
        "\r\n",
        "for exp, result in zip([bt_default, bt_small, bt_large], [\"32_\", \"8_\", \"512_\"]):\r\n",
        "    df = pd.DataFrame.from_dict(exp.history)\r\n",
        "    df['epoch'] = df.index.values\r\n",
        "    df['Batch Size'] = result\r\n",
        "    batch_sizes.append(df)\r\n",
        "\r\n",
        "df = pd.concat(batch_sizes)\r\n",
        "df['Batch Size'] = df['Batch Size'].astype('str')\r\n",
        "df.head()"
      ],
      "execution_count": null,
      "outputs": [
        {
          "output_type": "execute_result",
          "data": {
            "text/html": [
              "<div>\n",
              "<style scoped>\n",
              "    .dataframe tbody tr th:only-of-type {\n",
              "        vertical-align: middle;\n",
              "    }\n",
              "\n",
              "    .dataframe tbody tr th {\n",
              "        vertical-align: top;\n",
              "    }\n",
              "\n",
              "    .dataframe thead th {\n",
              "        text-align: right;\n",
              "    }\n",
              "</style>\n",
              "<table border=\"1\" class=\"dataframe\">\n",
              "  <thead>\n",
              "    <tr style=\"text-align: right;\">\n",
              "      <th></th>\n",
              "      <th>loss</th>\n",
              "      <th>accuracy</th>\n",
              "      <th>val_loss</th>\n",
              "      <th>val_accuracy</th>\n",
              "      <th>epoch</th>\n",
              "      <th>Batch Size</th>\n",
              "    </tr>\n",
              "  </thead>\n",
              "  <tbody>\n",
              "    <tr>\n",
              "      <th>0</th>\n",
              "      <td>0.732844</td>\n",
              "      <td>0.798683</td>\n",
              "      <td>0.335843</td>\n",
              "      <td>0.9066</td>\n",
              "      <td>0</td>\n",
              "      <td>32_</td>\n",
              "    </tr>\n",
              "    <tr>\n",
              "      <th>1</th>\n",
              "      <td>0.317087</td>\n",
              "      <td>0.909100</td>\n",
              "      <td>0.269674</td>\n",
              "      <td>0.9244</td>\n",
              "      <td>1</td>\n",
              "      <td>32_</td>\n",
              "    </tr>\n",
              "    <tr>\n",
              "      <th>2</th>\n",
              "      <td>0.265925</td>\n",
              "      <td>0.923717</td>\n",
              "      <td>0.239883</td>\n",
              "      <td>0.9316</td>\n",
              "      <td>2</td>\n",
              "      <td>32_</td>\n",
              "    </tr>\n",
              "    <tr>\n",
              "      <th>3</th>\n",
              "      <td>0.231806</td>\n",
              "      <td>0.934017</td>\n",
              "      <td>0.212257</td>\n",
              "      <td>0.9390</td>\n",
              "      <td>3</td>\n",
              "      <td>32_</td>\n",
              "    </tr>\n",
              "    <tr>\n",
              "      <th>4</th>\n",
              "      <td>0.205089</td>\n",
              "      <td>0.941750</td>\n",
              "      <td>0.187888</td>\n",
              "      <td>0.9458</td>\n",
              "      <td>4</td>\n",
              "      <td>32_</td>\n",
              "    </tr>\n",
              "  </tbody>\n",
              "</table>\n",
              "</div>"
            ],
            "text/plain": [
              "       loss  accuracy  val_loss  val_accuracy  epoch Batch Size\n",
              "0  0.732844  0.798683  0.335843        0.9066      0        32_\n",
              "1  0.317087  0.909100  0.269674        0.9244      1        32_\n",
              "2  0.265925  0.923717  0.239883        0.9316      2        32_\n",
              "3  0.231806  0.934017  0.212257        0.9390      3        32_\n",
              "4  0.205089  0.941750  0.187888        0.9458      4        32_"
            ]
          },
          "metadata": {
            "tags": []
          },
          "execution_count": 8
        }
      ]
    },
    {
      "cell_type": "code",
      "metadata": {
        "colab": {
          "base_uri": "https://localhost:8080/",
          "height": 283
        },
        "id": "kHqqeoC_ZTer",
        "outputId": "63839d3f-0466-4619-9630-41d7d756b3b4"
      },
      "source": [
        "sns.lineplot(x='epoch', y='val_accuracy', hue='Batch Size', data=df);"
      ],
      "execution_count": null,
      "outputs": [
        {
          "output_type": "display_data",
          "data": {
            "image/png": "[encoded data removed]",
            "text/plain": [
              "<Figure size 432x288 with 1 Axes>"
            ]
          },
          "metadata": {
            "tags": [],
            "needs_background": "light"
          }
        }
      ]
    },
    {
      "cell_type": "markdown",
      "metadata": {
        "id": "4kZ2vUYYgclS"
      },
      "source": [
        "## Challenge\n",
        "\n",
        "You will be expected to experiment with batch size on today's assignment."
      ]
    },
    {
      "cell_type": "markdown",
      "metadata": {
        "id": "46cP9Pm_gclS"
      },
      "source": [
        "# Learning Rate (Learn)"
      ]
    },
    {
      "cell_type": "markdown",
      "metadata": {
        "id": "Bna67ADZgclT",
        "toc-hr-collapsed": true
      },
      "source": [
        "## Overview\n",
        "\n",
        "Learning Rate controls the size of the update to our weights that the optimization algorithm makes. VERY IMPORTANT hyperparameter.\n",
        "\n",
        "* Too high of a learning rate causes unstable results\n",
        "* Too Low of a learning rate the model will underfit\n",
        "* Goldy Locks parameters - it needs be \"just right\"\n",
        "* Scale of 0-1"
      ]
    },
    {
      "cell_type": "markdown",
      "metadata": {
        "id": "gsVYOn7bgcle",
        "toc-hr-collapsed": true
      },
      "source": [
        "## Follow Along\n",
        "\n",
        "Same experiment with Batch but different learning rates:\n",
        "* High Learning = .75\n",
        "* Default Learning = .01\n",
        "* Low Learning Rate = .0001"
      ]
    },
    {
      "cell_type": "markdown",
      "metadata": {
        "id": "CI_H8Em1NOii"
      },
      "source": [
        "### Default Learning Rate"
      ]
    },
    {
      "cell_type": "code",
      "metadata": {
        "id": "Se8cb_ZUNVtL",
        "colab": {
          "base_uri": "https://localhost:8080/"
        },
        "outputId": "3429a5dc-ddf2-41f7-d730-a318b5490e11"
      },
      "source": [
        "model = create_model(learning_rate=0.01)\r\n",
        "lr_default = model.fit(X_train, y_train,\r\n",
        "                       epochs=20,\r\n",
        "                       batch_size=32,\r\n",
        "                       validation_data=(X_test, y_test))"
      ],
      "execution_count": null,
      "outputs": [
        {
          "output_type": "stream",
          "text": [
            "Epoch 1/20\n",
            "1875/1875 [==============================] - 4s 2ms/step - loss: 1.1473 - accuracy: 0.6815 - val_loss: 0.3313 - val_accuracy: 0.9061\n",
            "Epoch 2/20\n",
            "1875/1875 [==============================] - 4s 2ms/step - loss: 0.3289 - accuracy: 0.9062 - val_loss: 0.2773 - val_accuracy: 0.9204\n",
            "Epoch 3/20\n",
            "1875/1875 [==============================] - 3s 2ms/step - loss: 0.2689 - accuracy: 0.9230 - val_loss: 0.2425 - val_accuracy: 0.9309\n",
            "Epoch 4/20\n",
            "1875/1875 [==============================] - 4s 2ms/step - loss: 0.2409 - accuracy: 0.9314 - val_loss: 0.2164 - val_accuracy: 0.9386\n",
            "Epoch 5/20\n",
            "1875/1875 [==============================] - 4s 2ms/step - loss: 0.2154 - accuracy: 0.9380 - val_loss: 0.1979 - val_accuracy: 0.9434\n",
            "Epoch 6/20\n",
            "1875/1875 [==============================] - 4s 2ms/step - loss: 0.1959 - accuracy: 0.9442 - val_loss: 0.1797 - val_accuracy: 0.9478\n",
            "Epoch 7/20\n",
            "1875/1875 [==============================] - 4s 2ms/step - loss: 0.1763 - accuracy: 0.9496 - val_loss: 0.1836 - val_accuracy: 0.9461\n",
            "Epoch 8/20\n",
            "1875/1875 [==============================] - 4s 2ms/step - loss: 0.1646 - accuracy: 0.9533 - val_loss: 0.1595 - val_accuracy: 0.9519\n",
            "Epoch 9/20\n",
            "1875/1875 [==============================] - 4s 2ms/step - loss: 0.1502 - accuracy: 0.9578 - val_loss: 0.1504 - val_accuracy: 0.9558\n",
            "Epoch 10/20\n",
            "1875/1875 [==============================] - 4s 2ms/step - loss: 0.1397 - accuracy: 0.9590 - val_loss: 0.1454 - val_accuracy: 0.9588\n",
            "Epoch 11/20\n",
            "1875/1875 [==============================] - 4s 2ms/step - loss: 0.1294 - accuracy: 0.9626 - val_loss: 0.1382 - val_accuracy: 0.9586\n",
            "Epoch 12/20\n",
            "1875/1875 [==============================] - 4s 2ms/step - loss: 0.1218 - accuracy: 0.9658 - val_loss: 0.1317 - val_accuracy: 0.9599\n",
            "Epoch 13/20\n",
            "1875/1875 [==============================] - 4s 2ms/step - loss: 0.1120 - accuracy: 0.9683 - val_loss: 0.1261 - val_accuracy: 0.9625\n",
            "Epoch 14/20\n",
            "1875/1875 [==============================] - 4s 2ms/step - loss: 0.1105 - accuracy: 0.9680 - val_loss: 0.1222 - val_accuracy: 0.9639\n",
            "Epoch 15/20\n",
            "1875/1875 [==============================] - 4s 2ms/step - loss: 0.1021 - accuracy: 0.9699 - val_loss: 0.1186 - val_accuracy: 0.9645\n",
            "Epoch 16/20\n",
            "1875/1875 [==============================] - 4s 2ms/step - loss: 0.0940 - accuracy: 0.9737 - val_loss: 0.1130 - val_accuracy: 0.9653\n",
            "Epoch 17/20\n",
            "1875/1875 [==============================] - 4s 2ms/step - loss: 0.0916 - accuracy: 0.9735 - val_loss: 0.1088 - val_accuracy: 0.9672\n",
            "Epoch 18/20\n",
            "1875/1875 [==============================] - 4s 2ms/step - loss: 0.0900 - accuracy: 0.9748 - val_loss: 0.1057 - val_accuracy: 0.9674\n",
            "Epoch 19/20\n",
            "1875/1875 [==============================] - 4s 2ms/step - loss: 0.0828 - accuracy: 0.9762 - val_loss: 0.1091 - val_accuracy: 0.9675\n",
            "Epoch 20/20\n",
            "1875/1875 [==============================] - 4s 2ms/step - loss: 0.0775 - accuracy: 0.9775 - val_loss: 0.1033 - val_accuracy: 0.9687\n"
          ],
          "name": "stdout"
        }
      ]
    },
    {
      "cell_type": "markdown",
      "metadata": {
        "id": "IQZ4SZdKNMRO"
      },
      "source": [
        "### High Learning Rate"
      ]
    },
    {
      "cell_type": "code",
      "metadata": {
        "id": "Ny72mU_dNWMR",
        "colab": {
          "base_uri": "https://localhost:8080/"
        },
        "outputId": "60e9c20c-6454-4ecd-a052-30ab8f19231f"
      },
      "source": [
        "model = create_model(learning_rate=0.75)\r\n",
        "lr_high = model.fit(X_train, y_train,\r\n",
        "                    epochs=20,\r\n",
        "                    batch_size=32,\r\n",
        "                    validation_data=(X_test, y_test))"
      ],
      "execution_count": null,
      "outputs": [
        {
          "output_type": "stream",
          "text": [
            "Epoch 1/20\n",
            "1875/1875 [==============================] - 4s 2ms/step - loss: 0.8795 - accuracy: 0.7179 - val_loss: 0.3066 - val_accuracy: 0.9179\n",
            "Epoch 2/20\n",
            "1875/1875 [==============================] - 4s 2ms/step - loss: 0.3130 - accuracy: 0.9167 - val_loss: 0.2470 - val_accuracy: 0.9334\n",
            "Epoch 3/20\n",
            "1875/1875 [==============================] - 4s 2ms/step - loss: 0.2644 - accuracy: 0.9304 - val_loss: 0.2992 - val_accuracy: 0.9231\n",
            "Epoch 4/20\n",
            "1875/1875 [==============================] - 4s 2ms/step - loss: 0.2713 - accuracy: 0.9280 - val_loss: 0.3024 - val_accuracy: 0.9336\n",
            "Epoch 5/20\n",
            "1875/1875 [==============================] - 4s 2ms/step - loss: 0.2647 - accuracy: 0.9334 - val_loss: 0.2896 - val_accuracy: 0.9338\n",
            "Epoch 6/20\n",
            "1875/1875 [==============================] - 4s 2ms/step - loss: 0.2642 - accuracy: 0.9335 - val_loss: 0.4021 - val_accuracy: 0.9168\n",
            "Epoch 7/20\n",
            "1875/1875 [==============================] - 4s 2ms/step - loss: 0.3252 - accuracy: 0.9236 - val_loss: 0.3657 - val_accuracy: 0.9255\n",
            "Epoch 8/20\n",
            "1875/1875 [==============================] - 4s 2ms/step - loss: 0.3263 - accuracy: 0.9241 - val_loss: 0.2455 - val_accuracy: 0.9445\n",
            "Epoch 9/20\n",
            "1875/1875 [==============================] - 4s 2ms/step - loss: 0.2404 - accuracy: 0.9409 - val_loss: 0.2976 - val_accuracy: 0.9302\n",
            "Epoch 10/20\n",
            "1875/1875 [==============================] - 4s 2ms/step - loss: 0.2686 - accuracy: 0.9361 - val_loss: 0.2905 - val_accuracy: 0.9330\n",
            "Epoch 11/20\n",
            "1875/1875 [==============================] - 4s 2ms/step - loss: 0.2243 - accuracy: 0.9471 - val_loss: 0.2640 - val_accuracy: 0.9415\n",
            "Epoch 12/20\n",
            "1875/1875 [==============================] - 4s 2ms/step - loss: 0.2463 - accuracy: 0.9427 - val_loss: 0.3461 - val_accuracy: 0.9361\n",
            "Epoch 13/20\n",
            "1875/1875 [==============================] - 4s 2ms/step - loss: 0.3342 - accuracy: 0.9284 - val_loss: 0.4098 - val_accuracy: 0.9133\n",
            "Epoch 14/20\n",
            "1875/1875 [==============================] - 4s 2ms/step - loss: 0.3518 - accuracy: 0.9225 - val_loss: 0.3353 - val_accuracy: 0.9280\n",
            "Epoch 15/20\n",
            "1875/1875 [==============================] - 4s 2ms/step - loss: 0.3404 - accuracy: 0.9223 - val_loss: 0.3199 - val_accuracy: 0.9396\n",
            "Epoch 16/20\n",
            "1875/1875 [==============================] - 4s 2ms/step - loss: 0.2737 - accuracy: 0.9398 - val_loss: 0.4161 - val_accuracy: 0.9061\n",
            "Epoch 17/20\n",
            "1875/1875 [==============================] - 4s 2ms/step - loss: 0.3377 - accuracy: 0.9214 - val_loss: 0.3187 - val_accuracy: 0.9325\n",
            "Epoch 18/20\n",
            "1875/1875 [==============================] - 4s 2ms/step - loss: 0.2737 - accuracy: 0.9385 - val_loss: 0.4044 - val_accuracy: 0.9254\n",
            "Epoch 19/20\n",
            "1875/1875 [==============================] - 4s 2ms/step - loss: 0.2718 - accuracy: 0.9399 - val_loss: 0.3076 - val_accuracy: 0.9315\n",
            "Epoch 20/20\n",
            "1875/1875 [==============================] - 4s 2ms/step - loss: 0.2673 - accuracy: 0.9375 - val_loss: 0.2728 - val_accuracy: 0.9393\n"
          ],
          "name": "stdout"
        }
      ]
    },
    {
      "cell_type": "markdown",
      "metadata": {
        "id": "kAqDmTVBNSMR"
      },
      "source": [
        "### Low Learning Rate"
      ]
    },
    {
      "cell_type": "code",
      "metadata": {
        "id": "Ech1ER64NXBn",
        "colab": {
          "base_uri": "https://localhost:8080/"
        },
        "outputId": "3b61b6ff-3963-4030-93d6-b41030680f72"
      },
      "source": [
        "model = create_model(learning_rate=0.0001)\r\n",
        "lr_low = model.fit(X_train, y_train,\r\n",
        "                   epochs=20,\r\n",
        "                   batch_size=32,\r\n",
        "                   validation_data=(X_test, y_test))"
      ],
      "execution_count": null,
      "outputs": [
        {
          "output_type": "stream",
          "text": [
            "Epoch 1/20\n",
            "1875/1875 [==============================] - 4s 2ms/step - loss: 2.3032 - accuracy: 0.1162 - val_loss: 2.2265 - val_accuracy: 0.1471\n",
            "Epoch 2/20\n",
            "1875/1875 [==============================] - 4s 2ms/step - loss: 2.2114 - accuracy: 0.1606 - val_loss: 2.1437 - val_accuracy: 0.2168\n",
            "Epoch 3/20\n",
            "1875/1875 [==============================] - 4s 2ms/step - loss: 2.1337 - accuracy: 0.2328 - val_loss: 2.0637 - val_accuracy: 0.3301\n",
            "Epoch 4/20\n",
            "1875/1875 [==============================] - 4s 2ms/step - loss: 2.0542 - accuracy: 0.3394 - val_loss: 1.9817 - val_accuracy: 0.4270\n",
            "Epoch 5/20\n",
            "1875/1875 [==============================] - 3s 2ms/step - loss: 1.9729 - accuracy: 0.4371 - val_loss: 1.8961 - val_accuracy: 0.4988\n",
            "Epoch 6/20\n",
            "1875/1875 [==============================] - 4s 2ms/step - loss: 1.8906 - accuracy: 0.4898 - val_loss: 1.8070 - val_accuracy: 0.5490\n",
            "Epoch 7/20\n",
            "1875/1875 [==============================] - 4s 2ms/step - loss: 1.7996 - accuracy: 0.5406 - val_loss: 1.7159 - val_accuracy: 0.5858\n",
            "Epoch 8/20\n",
            "1875/1875 [==============================] - 4s 2ms/step - loss: 1.7092 - accuracy: 0.5765 - val_loss: 1.6246 - val_accuracy: 0.6144\n",
            "Epoch 9/20\n",
            "1875/1875 [==============================] - 4s 2ms/step - loss: 1.6158 - accuracy: 0.6079 - val_loss: 1.5345 - val_accuracy: 0.6403\n",
            "Epoch 10/20\n",
            "1875/1875 [==============================] - 4s 2ms/step - loss: 1.5321 - accuracy: 0.6312 - val_loss: 1.4468 - val_accuracy: 0.6652\n",
            "Epoch 11/20\n",
            "1875/1875 [==============================] - 4s 2ms/step - loss: 1.4455 - accuracy: 0.6539 - val_loss: 1.3624 - val_accuracy: 0.6878\n",
            "Epoch 12/20\n",
            "1875/1875 [==============================] - 4s 2ms/step - loss: 1.3644 - accuracy: 0.6790 - val_loss: 1.2821 - val_accuracy: 0.7102\n",
            "Epoch 13/20\n",
            "1875/1875 [==============================] - 4s 2ms/step - loss: 1.2852 - accuracy: 0.7008 - val_loss: 1.2066 - val_accuracy: 0.7315\n",
            "Epoch 14/20\n",
            "1875/1875 [==============================] - 4s 2ms/step - loss: 1.2080 - accuracy: 0.7254 - val_loss: 1.1364 - val_accuracy: 0.7478\n",
            "Epoch 15/20\n",
            "1875/1875 [==============================] - 4s 2ms/step - loss: 1.1428 - accuracy: 0.7401 - val_loss: 1.0717 - val_accuracy: 0.7633\n",
            "Epoch 16/20\n",
            "1875/1875 [==============================] - 4s 2ms/step - loss: 1.0815 - accuracy: 0.7552 - val_loss: 1.0125 - val_accuracy: 0.7740\n",
            "Epoch 17/20\n",
            "1875/1875 [==============================] - 4s 2ms/step - loss: 1.0198 - accuracy: 0.7699 - val_loss: 0.9588 - val_accuracy: 0.7846\n",
            "Epoch 18/20\n",
            "1875/1875 [==============================] - 4s 2ms/step - loss: 0.9655 - accuracy: 0.7795 - val_loss: 0.9103 - val_accuracy: 0.7957\n",
            "Epoch 19/20\n",
            "1875/1875 [==============================] - 4s 2ms/step - loss: 0.9206 - accuracy: 0.7926 - val_loss: 0.8669 - val_accuracy: 0.8015\n",
            "Epoch 20/20\n",
            "1875/1875 [==============================] - 4s 2ms/step - loss: 0.8789 - accuracy: 0.7971 - val_loss: 0.8278 - val_accuracy: 0.8094\n"
          ],
          "name": "stdout"
        }
      ]
    },
    {
      "cell_type": "markdown",
      "metadata": {
        "id": "sZe6DyhANXdU"
      },
      "source": [
        "### Visualization of Results"
      ]
    },
    {
      "cell_type": "code",
      "metadata": {
        "id": "Bn-BdFdMNph-",
        "colab": {
          "base_uri": "https://localhost:8080/",
          "height": 203
        },
        "outputId": "43be6f82-bff9-4fed-821c-ac4a68c02170"
      },
      "source": [
        "import seaborn as sns\r\n",
        "import pandas as pd\r\n",
        "\r\n",
        "learning_rates = []\r\n",
        "\r\n",
        "for exp, result in zip([lr_default, lr_low, lr_high], [\"0.01_\", \"0.0001_\", \"0.75_\"]):\r\n",
        "    df = pd.DataFrame.from_dict(exp.history)\r\n",
        "    df['epoch'] = df.index.values\r\n",
        "    df['Learning Rate'] = result\r\n",
        "    learning_rates.append(df)\r\n",
        "\r\n",
        "df = pd.concat(learning_rates)\r\n",
        "df['Learning Rate'] = df['Learning Rate'].astype('str')\r\n",
        "df.head()"
      ],
      "execution_count": null,
      "outputs": [
        {
          "output_type": "execute_result",
          "data": {
            "text/html": [
              "<div>\n",
              "<style scoped>\n",
              "    .dataframe tbody tr th:only-of-type {\n",
              "        vertical-align: middle;\n",
              "    }\n",
              "\n",
              "    .dataframe tbody tr th {\n",
              "        vertical-align: top;\n",
              "    }\n",
              "\n",
              "    .dataframe thead th {\n",
              "        text-align: right;\n",
              "    }\n",
              "</style>\n",
              "<table border=\"1\" class=\"dataframe\">\n",
              "  <thead>\n",
              "    <tr style=\"text-align: right;\">\n",
              "      <th></th>\n",
              "      <th>loss</th>\n",
              "      <th>accuracy</th>\n",
              "      <th>val_loss</th>\n",
              "      <th>val_accuracy</th>\n",
              "      <th>epoch</th>\n",
              "      <th>Learning Rate</th>\n",
              "    </tr>\n",
              "  </thead>\n",
              "  <tbody>\n",
              "    <tr>\n",
              "      <th>0</th>\n",
              "      <td>0.682234</td>\n",
              "      <td>0.817883</td>\n",
              "      <td>0.331331</td>\n",
              "      <td>0.9061</td>\n",
              "      <td>0</td>\n",
              "      <td>0.01_</td>\n",
              "    </tr>\n",
              "    <tr>\n",
              "      <th>1</th>\n",
              "      <td>0.312460</td>\n",
              "      <td>0.910633</td>\n",
              "      <td>0.277306</td>\n",
              "      <td>0.9204</td>\n",
              "      <td>1</td>\n",
              "      <td>0.01_</td>\n",
              "    </tr>\n",
              "    <tr>\n",
              "      <th>2</th>\n",
              "      <td>0.264084</td>\n",
              "      <td>0.924567</td>\n",
              "      <td>0.242505</td>\n",
              "      <td>0.9309</td>\n",
              "      <td>2</td>\n",
              "      <td>0.01_</td>\n",
              "    </tr>\n",
              "    <tr>\n",
              "      <th>3</th>\n",
              "      <td>0.233431</td>\n",
              "      <td>0.934567</td>\n",
              "      <td>0.216392</td>\n",
              "      <td>0.9386</td>\n",
              "      <td>3</td>\n",
              "      <td>0.01_</td>\n",
              "    </tr>\n",
              "    <tr>\n",
              "      <th>4</th>\n",
              "      <td>0.210424</td>\n",
              "      <td>0.939967</td>\n",
              "      <td>0.197860</td>\n",
              "      <td>0.9434</td>\n",
              "      <td>4</td>\n",
              "      <td>0.01_</td>\n",
              "    </tr>\n",
              "  </tbody>\n",
              "</table>\n",
              "</div>"
            ],
            "text/plain": [
              "       loss  accuracy  val_loss  val_accuracy  epoch Learning Rate\n",
              "0  0.682234  0.817883  0.331331        0.9061      0         0.01_\n",
              "1  0.312460  0.910633  0.277306        0.9204      1         0.01_\n",
              "2  0.264084  0.924567  0.242505        0.9309      2         0.01_\n",
              "3  0.233431  0.934567  0.216392        0.9386      3         0.01_\n",
              "4  0.210424  0.939967  0.197860        0.9434      4         0.01_"
            ]
          },
          "metadata": {
            "tags": []
          },
          "execution_count": 14
        }
      ]
    },
    {
      "cell_type": "code",
      "metadata": {
        "colab": {
          "base_uri": "https://localhost:8080/",
          "height": 279
        },
        "id": "FMw9RzoLe2OS",
        "outputId": "89a16c22-490c-4f0c-febb-42b980abf3c6"
      },
      "source": [
        "sns.lineplot(x='epoch', y='val_loss', hue='Learning Rate', data=df);"
      ],
      "execution_count": null,
      "outputs": [
        {
          "output_type": "display_data",
          "data": {
            "image/png": "[encoded data removed]",
            "text/plain": [
              "<Figure size 432x288 with 1 Axes>"
            ]
          },
          "metadata": {
            "tags": [],
            "needs_background": "light"
          }
        }
      ]
    },
    {
      "cell_type": "markdown",
      "metadata": {
        "id": "Kb2aiw_Sgcl7"
      },
      "source": [
        "## Challenge\n",
        "\n",
        "You will be expected to experiment with different learning rates today.\n",
        "\n",
        "---"
      ]
    }
  ]
}